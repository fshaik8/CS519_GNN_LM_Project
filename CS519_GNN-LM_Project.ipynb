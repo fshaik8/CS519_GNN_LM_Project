{
 "cells": [
  {
   "cell_type": "code",
   "execution_count": 1,
   "id": "04a3d5c0-7f74-454b-bb80-b06b1758cf44",
   "metadata": {},
   "outputs": [
    {
     "name": "stdout",
     "output_type": "stream",
     "text": [
      "Requirement already satisfied: torch in /opt/conda/lib/python3.11/site-packages (2.0.1+cu118)\n",
      "Requirement already satisfied: faiss-cpu in /opt/conda/lib/python3.11/site-packages (1.8.0)\n",
      "Requirement already satisfied: filelock in /opt/conda/lib/python3.11/site-packages (from torch) (3.13.1)\n",
      "Requirement already satisfied: typing-extensions in /opt/conda/lib/python3.11/site-packages (from torch) (4.11.0)\n",
      "Requirement already satisfied: sympy in /opt/conda/lib/python3.11/site-packages (from torch) (1.12)\n",
      "Requirement already satisfied: networkx in /opt/conda/lib/python3.11/site-packages (from torch) (3.3)\n",
      "Requirement already satisfied: jinja2 in /opt/conda/lib/python3.11/site-packages (from torch) (3.1.4)\n",
      "Requirement already satisfied: triton==2.0.0 in /opt/conda/lib/python3.11/site-packages (from torch) (2.0.0)\n",
      "Requirement already satisfied: cmake in /opt/conda/lib/python3.11/site-packages (from triton==2.0.0->torch) (3.31.1)\n",
      "Requirement already satisfied: lit in /opt/conda/lib/python3.11/site-packages (from triton==2.0.0->torch) (18.1.8)\n",
      "Requirement already satisfied: numpy in /opt/conda/lib/python3.11/site-packages (from faiss-cpu) (1.26.4)\n",
      "Requirement already satisfied: MarkupSafe>=2.0 in /opt/conda/lib/python3.11/site-packages (from jinja2->torch) (2.1.5)\n",
      "Requirement already satisfied: mpmath>=0.19 in /opt/conda/lib/python3.11/site-packages (from sympy->torch) (1.3.0)\n",
      "Looking in links: https://data.pyg.org/whl/torch-2.0.1+cu118.html\n",
      "Requirement already satisfied: torch-scatter in /opt/conda/lib/python3.11/site-packages (2.1.2+pt20cu118)\n",
      "Looking in links: https://data.pyg.org/whl/torch-2.0.1+cu118.html\n",
      "Requirement already satisfied: torch-sparse in /opt/conda/lib/python3.11/site-packages (0.6.18+pt20cu118)\n",
      "Requirement already satisfied: scipy in /opt/conda/lib/python3.11/site-packages (from torch-sparse) (1.13.1)\n",
      "Requirement already satisfied: numpy<2.3,>=1.22.4 in /opt/conda/lib/python3.11/site-packages (from scipy->torch-sparse) (1.26.4)\n",
      "Looking in links: https://data.pyg.org/whl/torch-2.0.1+cu118.html\n",
      "Requirement already satisfied: torch-cluster in /opt/conda/lib/python3.11/site-packages (1.6.3+pt20cu118)\n",
      "Requirement already satisfied: scipy in /opt/conda/lib/python3.11/site-packages (from torch-cluster) (1.13.1)\n",
      "Requirement already satisfied: numpy<2.3,>=1.22.4 in /opt/conda/lib/python3.11/site-packages (from scipy->torch-cluster) (1.26.4)\n",
      "Looking in links: https://data.pyg.org/whl/torch-2.0.1+cu118.html\n",
      "Requirement already satisfied: torch-spline-conv in /opt/conda/lib/python3.11/site-packages (1.2.2+pt20cu118)\n",
      "Requirement already satisfied: torch-geometric in /opt/conda/lib/python3.11/site-packages (2.6.1)\n",
      "Requirement already satisfied: aiohttp in /opt/conda/lib/python3.11/site-packages (from torch-geometric) (3.9.5)\n",
      "Requirement already satisfied: fsspec in /opt/conda/lib/python3.11/site-packages (from torch-geometric) (2024.5.0)\n",
      "Requirement already satisfied: jinja2 in /opt/conda/lib/python3.11/site-packages (from torch-geometric) (3.1.4)\n",
      "Requirement already satisfied: numpy in /opt/conda/lib/python3.11/site-packages (from torch-geometric) (1.26.4)\n",
      "Requirement already satisfied: psutil>=5.8.0 in /opt/conda/lib/python3.11/site-packages (from torch-geometric) (5.9.8)\n",
      "Requirement already satisfied: pyparsing in /opt/conda/lib/python3.11/site-packages (from torch-geometric) (3.1.2)\n",
      "Requirement already satisfied: requests in /opt/conda/lib/python3.11/site-packages (from torch-geometric) (2.32.3)\n",
      "Requirement already satisfied: tqdm in /opt/conda/lib/python3.11/site-packages (from torch-geometric) (4.66.4)\n",
      "Requirement already satisfied: aiosignal>=1.1.2 in /opt/conda/lib/python3.11/site-packages (from aiohttp->torch-geometric) (1.3.1)\n",
      "Requirement already satisfied: attrs>=17.3.0 in /opt/conda/lib/python3.11/site-packages (from aiohttp->torch-geometric) (23.2.0)\n",
      "Requirement already satisfied: frozenlist>=1.1.1 in /opt/conda/lib/python3.11/site-packages (from aiohttp->torch-geometric) (1.4.1)\n",
      "Requirement already satisfied: multidict<7.0,>=4.5 in /opt/conda/lib/python3.11/site-packages (from aiohttp->torch-geometric) (6.0.5)\n",
      "Requirement already satisfied: yarl<2.0,>=1.0 in /opt/conda/lib/python3.11/site-packages (from aiohttp->torch-geometric) (1.9.4)\n",
      "Requirement already satisfied: MarkupSafe>=2.0 in /opt/conda/lib/python3.11/site-packages (from jinja2->torch-geometric) (2.1.5)\n",
      "Requirement already satisfied: charset-normalizer<4,>=2 in /opt/conda/lib/python3.11/site-packages (from requests->torch-geometric) (3.3.2)\n",
      "Requirement already satisfied: idna<4,>=2.5 in /opt/conda/lib/python3.11/site-packages (from requests->torch-geometric) (3.7)\n",
      "Requirement already satisfied: urllib3<3,>=1.21.1 in /opt/conda/lib/python3.11/site-packages (from requests->torch-geometric) (2.2.1)\n",
      "Requirement already satisfied: certifi>=2017.4.17 in /opt/conda/lib/python3.11/site-packages (from requests->torch-geometric) (2024.2.2)\n"
     ]
    }
   ],
   "source": [
    "!pip install torch faiss-cpu\n",
    "!pip install torch-scatter -f https://data.pyg.org/whl/torch-2.0.1+cu118.html\n",
    "!pip install torch-sparse -f https://data.pyg.org/whl/torch-2.0.1+cu118.html\n",
    "!pip install torch-cluster -f https://data.pyg.org/whl/torch-2.0.1+cu118.html\n",
    "!pip install torch-spline-conv -f https://data.pyg.org/whl/torch-2.0.1+cu118.html\n",
    "!pip install torch-geometric"
   ]
  },
  {
   "cell_type": "code",
   "execution_count": 2,
   "id": "fffecee3-62bf-4695-9c5b-57af98b64f86",
   "metadata": {},
   "outputs": [],
   "source": [
    "import torch\n",
    "import torch.nn as nn\n",
    "import torch.nn.functional as F\n",
    "from torch.utils.data import Dataset, DataLoader\n",
    "from torch.cuda.amp import autocast, GradScaler\n",
    "import torch_geometric\n",
    "from torch_geometric.data import HeteroData\n",
    "from torch_geometric.nn import SAGEConv, HeteroConv\n",
    "from torch_geometric.loader import NeighborLoader\n",
    "import numpy as np\n",
    "import faiss\n",
    "import os\n",
    "from collections import Counter\n",
    "from tqdm import tqdm\n",
    "import matplotlib.pyplot as plt\n",
    "import math\n",
    "import pickle"
   ]
  },
  {
   "cell_type": "code",
   "execution_count": 3,
   "id": "3b8f4a68-a03e-4adc-8d7a-25a989f69d6e",
   "metadata": {},
   "outputs": [
    {
     "name": "stdout",
     "output_type": "stream",
     "text": [
      "Using device: cuda\n"
     ]
    }
   ],
   "source": [
    "device = torch.device('cuda' if torch.cuda.is_available() else 'cpu')\n",
    "print('Using device:', device)"
   ]
  },
  {
   "cell_type": "code",
   "execution_count": 4,
   "id": "c218e4f1-35b3-4134-8933-540b38eaa1b8",
   "metadata": {},
   "outputs": [],
   "source": [
    "block_size = 64          # Context window size\n",
    "subset_size = 10000     # Size of the subset to use from Enwik8\n",
    "k = 32                   # Number of nearest neighbors\n",
    "embed_dim = 64           # Embedding dimension\n",
    "num_heads = 4            # Number of attention heads\n",
    "num_layers = 4           # Number of Transformer layers\n",
    "num_gnn_layers = 3       # Number of GNN layers\n",
    "hidden_channels = 128    # Hidden channels in GNN\n",
    "batch_size = 128         # Batch size for DataLoader\n",
    "num_epochs = 20          # Number of training epochs\n",
    "num_workers = 4          # Number of workers for DataLoader\n",
    "accumulation_steps = 4   # Gradient accumulation steps\n",
    "chunk_size = 50000       # Chunk size for processing large data"
   ]
  },
  {
   "cell_type": "code",
   "execution_count": 5,
   "id": "b8ff8c99-a199-4f52-a636-8bd1917315a6",
   "metadata": {},
   "outputs": [],
   "source": [
    "# Base Transformer Model Metrics\n",
    "train_losses = []\n",
    "val_losses = []\n",
    "train_bpcs = []\n",
    "val_bpcs = []\n",
    "train_accuracies = [] \n",
    "val_accuracies = []\n",
    "\n",
    "# Heterogeneous GNN Model Metrics\n",
    "gnn_train_losses = []\n",
    "gnn_val_losses = []\n",
    "gnn_train_bpcs = []\n",
    "gnn_val_bpcs = []\n",
    "gnn_train_accuracies = []\n",
    "gnn_val_accuracies = []"
   ]
  },
  {
   "cell_type": "code",
   "execution_count": 6,
   "id": "c4d586b4-ccf6-4487-890e-9270fab41aab",
   "metadata": {},
   "outputs": [
    {
     "name": "stdout",
     "output_type": "stream",
     "text": [
      "Vocabulary size: 86\n",
      "Dataset loading and processing completed.\n"
     ]
    }
   ],
   "source": [
    "if not os.path.exists('enwik8.zip'):\n",
    "    os.system('wget -c http://mattmahoney.net/dc/enwik8.zip')\n",
    "    os.system('unzip -o enwik8.zip')\n",
    "\n",
    "with open('enwik8', 'r') as f:\n",
    "    data = f.read(subset_size)\n",
    "\n",
    "def build_vocab(data):\n",
    "    counter = Counter(data)\n",
    "    chars = sorted(counter.keys())\n",
    "    vocab = {ch: i for i, ch in enumerate(chars)}\n",
    "    return vocab\n",
    "\n",
    "vocab = build_vocab(data)\n",
    "vocab_size = len(vocab)\n",
    "print(f'Vocabulary size: {vocab_size}')\n",
    "\n",
    "def encode_data(data, vocab):\n",
    "    return [vocab[ch] for ch in data]\n",
    "\n",
    "data_ids = encode_data(data, vocab)\n",
    "\n",
    "num_test = len(data_ids) // 10\n",
    "train_ids = data_ids[:-2 * num_test]\n",
    "valid_ids = data_ids[-2 * num_test:-num_test]\n",
    "test_ids = data_ids[-num_test:]\n",
    "\n",
    "class TextDataset(Dataset):\n",
    "    def __init__(self, data_ids, block_size):\n",
    "        self.data_ids = data_ids\n",
    "        self.block_size = block_size\n",
    "\n",
    "    def __len__(self):\n",
    "        return len(self.data_ids) - self.block_size\n",
    "\n",
    "    def __getitem__(self, idx):\n",
    "        x = torch.tensor(self.data_ids[idx:idx + self.block_size], dtype=torch.long)\n",
    "        y = torch.tensor(self.data_ids[idx + 1:idx + 1 + self.block_size], dtype=torch.long)\n",
    "        return x, y\n",
    "\n",
    "train_dataset = TextDataset(train_ids, block_size)\n",
    "valid_dataset = TextDataset(valid_ids, block_size)\n",
    "test_dataset = TextDataset(test_ids, block_size)\n",
    "\n",
    "train_loader = DataLoader(train_dataset, batch_size=batch_size, shuffle=True,\n",
    "                          num_workers=num_workers, pin_memory=True)\n",
    "valid_loader = DataLoader(valid_dataset, batch_size=batch_size,\n",
    "                          num_workers=num_workers, pin_memory=True)\n",
    "test_loader = DataLoader(test_dataset, batch_size=batch_size,\n",
    "                         num_workers=num_workers, pin_memory=True)\n",
    "\n",
    "print(\"Dataset loading and processing completed.\")"
   ]
  },
  {
   "cell_type": "code",
   "execution_count": 7,
   "id": "d1a945fa-0b9f-47a3-a83b-b70867fd25e4",
   "metadata": {},
   "outputs": [],
   "source": [
    "class TransformerLM(nn.Module):\n",
    "    def __init__(self, vocab_size, embed_dim, num_heads, num_layers, block_size):\n",
    "        super(TransformerLM, self).__init__()\n",
    "        self.token_embedding = nn.Embedding(vocab_size, embed_dim)\n",
    "        self.position_embedding = nn.Embedding(block_size, embed_dim)\n",
    "        encoder_layers = nn.TransformerEncoderLayer(d_model=embed_dim, nhead=num_heads)\n",
    "        self.transformer = nn.TransformerEncoder(encoder_layers, num_layers=num_layers)\n",
    "        self.fc_out = nn.Linear(embed_dim, vocab_size)\n",
    "\n",
    "    def forward(self, x):\n",
    "        seq_length = x.size(1)\n",
    "        positions = torch.arange(0, seq_length, device=x.device).unsqueeze(0).expand(x.size(0), seq_length)\n",
    "        x = self.token_embedding(x) + self.position_embedding(positions)\n",
    "        x = x.permute(1, 0, 2)  # (seq_length, batch_size, embed_dim)\n",
    "        output = self.transformer(x)\n",
    "        output = output.permute(1, 0, 2)  # (batch_size, seq_length, embed_dim)\n",
    "        logits = self.fc_out(output)\n",
    "        return logits, output  # Return logits and hidden states\n",
    "\n",
    "base_model = TransformerLM(vocab_size, embed_dim, num_heads, num_layers, block_size).to(device)\n",
    "optimizer = torch.optim.Adam(base_model.parameters(), lr=0.0001)\n",
    "criterion = nn.CrossEntropyLoss()\n",
    "scaler = GradScaler()"
   ]
  },
  {
   "cell_type": "code",
   "execution_count": 8,
   "id": "61709a05-860a-4ca8-9e3d-bc0b4eae78af",
   "metadata": {},
   "outputs": [
    {
     "name": "stderr",
     "output_type": "stream",
     "text": [
      "Epoch 1/20: 100%|██████████| 62/62 [00:01<00:00, 42.98it/s, loss=3.46]"
     ]
    },
    {
     "name": "stdout",
     "output_type": "stream",
     "text": [
      "Epoch 1, Training Loss: 3.7309, Training BPC: 5.3825, Training Accuracy: 0.1634\n"
     ]
    },
    {
     "name": "stderr",
     "output_type": "stream",
     "text": [
      "\n"
     ]
    },
    {
     "name": "stdout",
     "output_type": "stream",
     "text": [
      "Epoch 1, Validation Loss: 3.6439, Validation BPC: 5.2570, Validation Accuracy: 0.1389\n"
     ]
    },
    {
     "name": "stderr",
     "output_type": "stream",
     "text": [
      "Epoch 2/20: 100%|██████████| 62/62 [00:00<00:00, 80.49it/s, loss=3.04]"
     ]
    },
    {
     "name": "stdout",
     "output_type": "stream",
     "text": [
      "Epoch 2, Training Loss: 3.1952, Training BPC: 4.6097, Training Accuracy: 0.2641\n"
     ]
    },
    {
     "name": "stderr",
     "output_type": "stream",
     "text": [
      "\n"
     ]
    },
    {
     "name": "stdout",
     "output_type": "stream",
     "text": [
      "Epoch 2, Validation Loss: 3.3124, Validation BPC: 4.7788, Validation Accuracy: 0.1779\n"
     ]
    },
    {
     "name": "stderr",
     "output_type": "stream",
     "text": [
      "Epoch 3/20: 100%|██████████| 62/62 [00:00<00:00, 85.24it/s, loss=2.76]\n"
     ]
    },
    {
     "name": "stdout",
     "output_type": "stream",
     "text": [
      "Epoch 3, Training Loss: 2.8706, Training BPC: 4.1413, Training Accuracy: 0.3171\n",
      "Epoch 3, Validation Loss: 3.0802, Validation BPC: 4.4439, Validation Accuracy: 0.2123\n"
     ]
    },
    {
     "name": "stderr",
     "output_type": "stream",
     "text": [
      "Epoch 4/20: 100%|██████████| 62/62 [00:00<00:00, 76.00it/s, loss=2.54]"
     ]
    },
    {
     "name": "stdout",
     "output_type": "stream",
     "text": [
      "Epoch 4, Training Loss: 2.6505, Training BPC: 3.8239, Training Accuracy: 0.3559\n"
     ]
    },
    {
     "name": "stderr",
     "output_type": "stream",
     "text": [
      "\n"
     ]
    },
    {
     "name": "stdout",
     "output_type": "stream",
     "text": [
      "Epoch 4, Validation Loss: 2.9307, Validation BPC: 4.2281, Validation Accuracy: 0.2299\n"
     ]
    },
    {
     "name": "stderr",
     "output_type": "stream",
     "text": [
      "Epoch 5/20: 100%|██████████| 62/62 [00:00<00:00, 80.00it/s, loss=2.4] "
     ]
    },
    {
     "name": "stdout",
     "output_type": "stream",
     "text": [
      "Epoch 5, Training Loss: 2.4915, Training BPC: 3.5944, Training Accuracy: 0.3799\n"
     ]
    },
    {
     "name": "stderr",
     "output_type": "stream",
     "text": [
      "\n"
     ]
    },
    {
     "name": "stdout",
     "output_type": "stream",
     "text": [
      "Epoch 5, Validation Loss: 2.8352, Validation BPC: 4.0904, Validation Accuracy: 0.2429\n"
     ]
    },
    {
     "name": "stderr",
     "output_type": "stream",
     "text": [
      "Epoch 6/20: 100%|██████████| 62/62 [00:00<00:00, 73.94it/s, loss=2.28]"
     ]
    },
    {
     "name": "stdout",
     "output_type": "stream",
     "text": [
      "Epoch 6, Training Loss: 2.3719, Training BPC: 3.4219, Training Accuracy: 0.3951\n"
     ]
    },
    {
     "name": "stderr",
     "output_type": "stream",
     "text": [
      "\n"
     ]
    },
    {
     "name": "stdout",
     "output_type": "stream",
     "text": [
      "Epoch 6, Validation Loss: 2.7720, Validation BPC: 3.9991, Validation Accuracy: 0.2516\n"
     ]
    },
    {
     "name": "stderr",
     "output_type": "stream",
     "text": [
      "Epoch 7/20: 100%|██████████| 62/62 [00:00<00:00, 71.18it/s, loss=2.24]"
     ]
    },
    {
     "name": "stdout",
     "output_type": "stream",
     "text": [
      "Epoch 7, Training Loss: 2.2759, Training BPC: 3.2834, Training Accuracy: 0.4074\n"
     ]
    },
    {
     "name": "stderr",
     "output_type": "stream",
     "text": [
      "\n"
     ]
    },
    {
     "name": "stdout",
     "output_type": "stream",
     "text": [
      "Epoch 7, Validation Loss: 2.7205, Validation BPC: 3.9248, Validation Accuracy: 0.2624\n"
     ]
    },
    {
     "name": "stderr",
     "output_type": "stream",
     "text": [
      "Epoch 8/20: 100%|██████████| 62/62 [00:00<00:00, 71.99it/s, loss=2.17]"
     ]
    },
    {
     "name": "stdout",
     "output_type": "stream",
     "text": [
      "Epoch 8, Training Loss: 2.1956, Training BPC: 3.1675, Training Accuracy: 0.4185\n"
     ]
    },
    {
     "name": "stderr",
     "output_type": "stream",
     "text": [
      "\n"
     ]
    },
    {
     "name": "stdout",
     "output_type": "stream",
     "text": [
      "Epoch 8, Validation Loss: 2.6824, Validation BPC: 3.8698, Validation Accuracy: 0.2702\n"
     ]
    },
    {
     "name": "stderr",
     "output_type": "stream",
     "text": [
      "Epoch 9/20: 100%|██████████| 62/62 [00:00<00:00, 79.80it/s, loss=2.12]"
     ]
    },
    {
     "name": "stdout",
     "output_type": "stream",
     "text": [
      "Epoch 9, Training Loss: 2.1272, Training BPC: 3.0689, Training Accuracy: 0.4284\n"
     ]
    },
    {
     "name": "stderr",
     "output_type": "stream",
     "text": [
      "\n"
     ]
    },
    {
     "name": "stdout",
     "output_type": "stream",
     "text": [
      "Epoch 9, Validation Loss: 2.6496, Validation BPC: 3.8226, Validation Accuracy: 0.2743\n"
     ]
    },
    {
     "name": "stderr",
     "output_type": "stream",
     "text": [
      "Epoch 10/20: 100%|██████████| 62/62 [00:00<00:00, 75.41it/s, loss=1.99]"
     ]
    },
    {
     "name": "stdout",
     "output_type": "stream",
     "text": [
      "Epoch 10, Training Loss: 2.0663, Training BPC: 2.9811, Training Accuracy: 0.4355\n"
     ]
    },
    {
     "name": "stderr",
     "output_type": "stream",
     "text": [
      "\n"
     ]
    },
    {
     "name": "stdout",
     "output_type": "stream",
     "text": [
      "Epoch 10, Validation Loss: 2.6235, Validation BPC: 3.7849, Validation Accuracy: 0.2784\n"
     ]
    },
    {
     "name": "stderr",
     "output_type": "stream",
     "text": [
      "Epoch 11/20: 100%|██████████| 62/62 [00:00<00:00, 75.26it/s, loss=1.95]"
     ]
    },
    {
     "name": "stdout",
     "output_type": "stream",
     "text": [
      "Epoch 11, Training Loss: 2.0100, Training BPC: 2.8998, Training Accuracy: 0.4444\n"
     ]
    },
    {
     "name": "stderr",
     "output_type": "stream",
     "text": [
      "\n"
     ]
    },
    {
     "name": "stdout",
     "output_type": "stream",
     "text": [
      "Epoch 11, Validation Loss: 2.5939, Validation BPC: 3.7423, Validation Accuracy: 0.2877\n"
     ]
    },
    {
     "name": "stderr",
     "output_type": "stream",
     "text": [
      "Epoch 12/20: 100%|██████████| 62/62 [00:00<00:00, 77.45it/s, loss=1.98]"
     ]
    },
    {
     "name": "stdout",
     "output_type": "stream",
     "text": [
      "Epoch 12, Training Loss: 1.9582, Training BPC: 2.8251, Training Accuracy: 0.4515\n"
     ]
    },
    {
     "name": "stderr",
     "output_type": "stream",
     "text": [
      "\n"
     ]
    },
    {
     "name": "stdout",
     "output_type": "stream",
     "text": [
      "Epoch 12, Validation Loss: 2.5723, Validation BPC: 3.7111, Validation Accuracy: 0.2908\n"
     ]
    },
    {
     "name": "stderr",
     "output_type": "stream",
     "text": [
      "Epoch 13/20: 100%|██████████| 62/62 [00:00<00:00, 75.17it/s, loss=1.91]"
     ]
    },
    {
     "name": "stdout",
     "output_type": "stream",
     "text": [
      "Epoch 13, Training Loss: 1.9088, Training BPC: 2.7537, Training Accuracy: 0.4590\n"
     ]
    },
    {
     "name": "stderr",
     "output_type": "stream",
     "text": [
      "\n"
     ]
    },
    {
     "name": "stdout",
     "output_type": "stream",
     "text": [
      "Epoch 13, Validation Loss: 2.5501, Validation BPC: 3.6790, Validation Accuracy: 0.2947\n"
     ]
    },
    {
     "name": "stderr",
     "output_type": "stream",
     "text": [
      "Epoch 14/20: 100%|██████████| 62/62 [00:00<00:00, 74.45it/s, loss=1.82]"
     ]
    },
    {
     "name": "stdout",
     "output_type": "stream",
     "text": [
      "Epoch 14, Training Loss: 1.8586, Training BPC: 2.6814, Training Accuracy: 0.4687\n"
     ]
    },
    {
     "name": "stderr",
     "output_type": "stream",
     "text": [
      "\n"
     ]
    },
    {
     "name": "stdout",
     "output_type": "stream",
     "text": [
      "Epoch 14, Validation Loss: 2.5096, Validation BPC: 3.6206, Validation Accuracy: 0.3087\n"
     ]
    },
    {
     "name": "stderr",
     "output_type": "stream",
     "text": [
      "Epoch 15/20: 100%|██████████| 62/62 [00:00<00:00, 74.57it/s, loss=1.77]\n"
     ]
    },
    {
     "name": "stdout",
     "output_type": "stream",
     "text": [
      "Epoch 15, Training Loss: 1.8023, Training BPC: 2.6002, Training Accuracy: 0.4813\n",
      "Epoch 15, Validation Loss: 2.4579, Validation BPC: 3.5460, Validation Accuracy: 0.3279\n"
     ]
    },
    {
     "name": "stderr",
     "output_type": "stream",
     "text": [
      "Epoch 16/20: 100%|██████████| 62/62 [00:00<00:00, 77.36it/s, loss=1.71]"
     ]
    },
    {
     "name": "stdout",
     "output_type": "stream",
     "text": [
      "Epoch 16, Training Loss: 1.7302, Training BPC: 2.4961, Training Accuracy: 0.5029\n"
     ]
    },
    {
     "name": "stderr",
     "output_type": "stream",
     "text": [
      "\n"
     ]
    },
    {
     "name": "stdout",
     "output_type": "stream",
     "text": [
      "Epoch 16, Validation Loss: 2.3587, Validation BPC: 3.4029, Validation Accuracy: 0.3618\n"
     ]
    },
    {
     "name": "stderr",
     "output_type": "stream",
     "text": [
      "Epoch 17/20: 100%|██████████| 62/62 [00:00<00:00, 77.05it/s, loss=1.57]"
     ]
    },
    {
     "name": "stdout",
     "output_type": "stream",
     "text": [
      "Epoch 17, Training Loss: 1.6267, Training BPC: 2.3468, Training Accuracy: 0.5363\n"
     ]
    },
    {
     "name": "stderr",
     "output_type": "stream",
     "text": [
      "\n"
     ]
    },
    {
     "name": "stdout",
     "output_type": "stream",
     "text": [
      "Epoch 17, Validation Loss: 2.1876, Validation BPC: 3.1560, Validation Accuracy: 0.4170\n"
     ]
    },
    {
     "name": "stderr",
     "output_type": "stream",
     "text": [
      "Epoch 18/20: 100%|██████████| 62/62 [00:00<00:00, 75.36it/s, loss=1.46]"
     ]
    },
    {
     "name": "stdout",
     "output_type": "stream",
     "text": [
      "Epoch 18, Training Loss: 1.4826, Training BPC: 2.1389, Training Accuracy: 0.5834\n"
     ]
    },
    {
     "name": "stderr",
     "output_type": "stream",
     "text": [
      "\n"
     ]
    },
    {
     "name": "stdout",
     "output_type": "stream",
     "text": [
      "Epoch 18, Validation Loss: 1.9271, Validation BPC: 2.7802, Validation Accuracy: 0.4933\n"
     ]
    },
    {
     "name": "stderr",
     "output_type": "stream",
     "text": [
      "Epoch 19/20: 100%|██████████| 62/62 [00:00<00:00, 75.64it/s, loss=1.19]"
     ]
    },
    {
     "name": "stdout",
     "output_type": "stream",
     "text": [
      "Epoch 19, Training Loss: 1.3096, Training BPC: 1.8894, Training Accuracy: 0.6388\n"
     ]
    },
    {
     "name": "stderr",
     "output_type": "stream",
     "text": [
      "\n"
     ]
    },
    {
     "name": "stdout",
     "output_type": "stream",
     "text": [
      "Epoch 19, Validation Loss: 1.6361, Validation BPC: 2.3604, Validation Accuracy: 0.5758\n"
     ]
    },
    {
     "name": "stderr",
     "output_type": "stream",
     "text": [
      "Epoch 20/20: 100%|██████████| 62/62 [00:00<00:00, 75.59it/s, loss=1.09]"
     ]
    },
    {
     "name": "stdout",
     "output_type": "stream",
     "text": [
      "Epoch 20, Training Loss: 1.1244, Training BPC: 1.6222, Training Accuracy: 0.6966\n"
     ]
    },
    {
     "name": "stderr",
     "output_type": "stream",
     "text": [
      "\n"
     ]
    },
    {
     "name": "stdout",
     "output_type": "stream",
     "text": [
      "Epoch 20, Validation Loss: 1.3366, Validation BPC: 1.9283, Validation Accuracy: 0.6583\n",
      "Base language model trained and saved successfully.\n"
     ]
    }
   ],
   "source": [
    "# Training the Base Transformer Model\n",
    "\n",
    "for epoch in range(num_epochs):\n",
    "    base_model.train()\n",
    "    total_loss = 0\n",
    "    correct_predictions = 0  # For accuracy (optional)\n",
    "    total_tokens = 0         # For accuracy (optional)\n",
    "    \n",
    "    progress_bar = tqdm(train_loader, desc=f\"Epoch {epoch+1}/{num_epochs}\")\n",
    "    for x, y in progress_bar:\n",
    "        x = x.to(device, non_blocking=True)\n",
    "        y = y.to(device, non_blocking=True)\n",
    "        optimizer.zero_grad()\n",
    "        with autocast():\n",
    "            logits, _ = base_model(x)\n",
    "            loss = criterion(logits.view(-1, vocab_size), y.view(-1))\n",
    "        scaler.scale(loss).backward()\n",
    "        scaler.step(optimizer)\n",
    "        scaler.update()\n",
    "        total_loss += loss.item()\n",
    "        \n",
    "        # Optional: Compute accuracy\n",
    "        predictions = logits.argmax(dim=-1)\n",
    "        correct_predictions += (predictions.view(-1) == y.view(-1)).sum().item()\n",
    "        total_tokens += y.numel()\n",
    "        \n",
    "        progress_bar.set_postfix(loss=loss.item())\n",
    "    \n",
    "    avg_loss = total_loss / len(train_loader)\n",
    "    train_losses.append(avg_loss)\n",
    "    \n",
    "    # Calculate BPC\n",
    "    train_bpc = avg_loss / math.log(2)\n",
    "    train_bpcs.append(train_bpc)\n",
    "    \n",
    "    # Optional: Calculate Accuracy\n",
    "    train_accuracy = correct_predictions / total_tokens\n",
    "    train_accuracies.append(train_accuracy)\n",
    "    \n",
    "    print(f'Epoch {epoch+1}, Training Loss: {avg_loss:.4f}, Training BPC: {train_bpc:.4f}, Training Accuracy: {train_accuracy:.4f}')\n",
    "    \n",
    "    # Validation Phase\n",
    "    base_model.eval()\n",
    "    val_loss = 0\n",
    "    correct_val = 0  # For accuracy (optional)\n",
    "    total_val = 0     # For accuracy (optional)\n",
    "    with torch.no_grad():\n",
    "        for x_val, y_val in valid_loader:\n",
    "            x_val = x_val.to(device, non_blocking=True)\n",
    "            y_val = y_val.to(device, non_blocking=True)\n",
    "            with autocast():\n",
    "                logits_val, _ = base_model(x_val)\n",
    "                loss_val = criterion(logits_val.view(-1, vocab_size), y_val.view(-1))\n",
    "            val_loss += loss_val.item()\n",
    "            \n",
    "            # Optional: Compute accuracy\n",
    "            predictions_val = logits_val.argmax(dim=-1)\n",
    "            correct_val += (predictions_val.view(-1) == y_val.view(-1)).sum().item()\n",
    "            total_val += y_val.numel()\n",
    "    \n",
    "    avg_val_loss = val_loss / len(valid_loader)\n",
    "    val_losses.append(avg_val_loss)\n",
    "    \n",
    "    # Calculate BPC for validation\n",
    "    val_bpc = avg_val_loss / math.log(2)\n",
    "    val_bpcs.append(val_bpc)\n",
    "    \n",
    "    # Optional: Calculate Validation Accuracy\n",
    "    val_accuracy = correct_val / total_val\n",
    "    val_accuracies.append(val_accuracy)\n",
    "    \n",
    "    print(f'Epoch {epoch+1}, Validation Loss: {avg_val_loss:.4f}, Validation BPC: {val_bpc:.4f}, Validation Accuracy: {val_accuracy:.4f}')\n",
    "\n",
    "# Save the Base Model\n",
    "torch.save(base_model.state_dict(), 'base_model.pth')\n",
    "print(\"Base language model trained and saved successfully.\")"
   ]
  },
  {
   "cell_type": "code",
   "execution_count": 9,
   "id": "d8e0dfdd-d10d-4254-bac7-0bd564393a2e",
   "metadata": {},
   "outputs": [
    {
     "name": "stdout",
     "output_type": "stream",
     "text": [
      "Existing train_reps.memmap removed.\n",
      "Existing train_targets.memmap removed.\n",
      "Existing test_reps.memmap removed.\n",
      "Existing test_targets.memmap removed.\n",
      "Existing FAISS index removed to prevent dimension mismatch.\n"
     ]
    },
    {
     "name": "stderr",
     "output_type": "stream",
     "text": [
      "Extracting representations: 100%|██████████| 62/62 [00:00<00:00, 101.02it/s]\n"
     ]
    },
    {
     "name": "stdout",
     "output_type": "stream",
     "text": [
      "Loading training representations from memmap...\n",
      "Normalizing training representations...\n"
     ]
    },
    {
     "name": "stderr",
     "output_type": "stream",
     "text": [
      "Normalizing training reps: 100%|██████████| 11/11 [00:00<00:00, 73.06it/s]\n",
      "Adding to FAISS index: 100%|██████████| 11/11 [00:00<00:00, 53.70it/s]\n"
     ]
    },
    {
     "name": "stdout",
     "output_type": "stream",
     "text": [
      "FAISS index built successfully. Dimension: 64, Number of vectors: 507904\n"
     ]
    },
    {
     "name": "stderr",
     "output_type": "stream",
     "text": [
      "Extracting representations: 100%|██████████| 8/8 [00:00<00:00, 21.98it/s]\n"
     ]
    },
    {
     "name": "stdout",
     "output_type": "stream",
     "text": [
      "Test representations extracted successfully.\n",
      "Loading test representations from memmap...\n",
      "Normalizing test representations...\n"
     ]
    },
    {
     "name": "stderr",
     "output_type": "stream",
     "text": [
      "Normalizing test reps: 100%|██████████| 2/2 [00:00<00:00, 75.93it/s]\n"
     ]
    },
    {
     "name": "stdout",
     "output_type": "stream",
     "text": [
      "Test representations normalized successfully.\n",
      "Retrieving kNN for test representations...\n"
     ]
    },
    {
     "name": "stderr",
     "output_type": "stream",
     "text": [
      "kNN Retrieval: 100%|██████████| 2/2 [02:26<00:00, 73.27s/it] \n"
     ]
    },
    {
     "name": "stdout",
     "output_type": "stream",
     "text": [
      "kNN Retrieval completed successfully.\n",
      "Graph constructed successfully.\n"
     ]
    }
   ],
   "source": [
    "def extract_representations(model, data_loader, reps_filename, targets_filename, embed_dim, device):\n",
    "    model.eval()\n",
    "    total_samples = len(data_loader.dataset) * block_size\n",
    "    reps_shape = (total_samples, embed_dim)\n",
    "    targets_shape = (total_samples,)\n",
    "\n",
    "    # Initialize memmap files\n",
    "    reps_memmap = np.memmap(reps_filename, dtype='float32', mode='w+', shape=reps_shape)\n",
    "    targets_memmap = np.memmap(targets_filename, dtype='int64', mode='w+', shape=targets_shape)\n",
    "\n",
    "    index = 0  # Keeps track of the current position in memmap\n",
    "    with torch.no_grad():\n",
    "        for x, y in tqdm(data_loader, desc=\"Extracting representations\"):\n",
    "            x = x.to(device, non_blocking=True)\n",
    "            y = y.to(device, non_blocking=True)\n",
    "            _, hidden_states = model(x)\n",
    "            batch_size_, seq_length, _ = hidden_states.size()\n",
    "\n",
    "            # Reshape and move to CPU\n",
    "            reps_batch = hidden_states.reshape(-1, embed_dim).cpu().numpy()\n",
    "            targets_batch = y.reshape(-1).cpu().numpy()\n",
    "            batch_sample_size = reps_batch.shape[0]\n",
    "\n",
    "            # Write to memmap\n",
    "            reps_memmap[index:index + batch_sample_size] = reps_batch\n",
    "            targets_memmap[index:index + batch_sample_size] = targets_batch\n",
    "            index += batch_sample_size\n",
    "\n",
    "    # Flush memmap to ensure data is written to disk\n",
    "    reps_memmap.flush()\n",
    "    targets_memmap.flush()\n",
    "\n",
    "    # Return the paths to the memmap files\n",
    "    return reps_filename, targets_filename\n",
    "\n",
    "# Paths to memmap files\n",
    "train_reps_file = 'train_reps.memmap'\n",
    "train_targets_file = 'train_targets.memmap'\n",
    "\n",
    "# Delete Existing FAISS Index and Memmap Files to Prevent Dimension Mismatch\n",
    "faiss_index_path = 'faiss_index.faiss'\n",
    "memmap_files = [train_reps_file, train_targets_file, 'test_reps.memmap', 'test_targets.memmap']\n",
    "\n",
    "for file in memmap_files:\n",
    "    if os.path.exists(file):\n",
    "        os.remove(file)\n",
    "        print(f\"Existing {file} removed.\")\n",
    "\n",
    "if os.path.exists(faiss_index_path):\n",
    "    os.remove(faiss_index_path)\n",
    "    print(\"Existing FAISS index removed to prevent dimension mismatch.\")\n",
    "\n",
    "# Extract and save training representations\n",
    "train_reps_file, train_targets_file = extract_representations(\n",
    "    base_model,\n",
    "    train_loader,\n",
    "    reps_filename=train_reps_file,\n",
    "    targets_filename=train_targets_file,\n",
    "    embed_dim=embed_dim,\n",
    "    device=device\n",
    ")\n",
    "\n",
    "# Load Training Representations\n",
    "print(\"Loading training representations from memmap...\")\n",
    "total_train_samples = len(train_dataset) * block_size\n",
    "train_reps = np.memmap(train_reps_file, dtype='float32', mode='r+', shape=(total_train_samples, embed_dim))\n",
    "train_targets = np.memmap(train_targets_file, dtype='int64', mode='r+', shape=(total_train_samples,))\n",
    "\n",
    "# Normalize Representations in Chunks to Save Memory\n",
    "print(\"Normalizing training representations...\")\n",
    "for i in tqdm(range(0, train_reps.shape[0], chunk_size), desc=\"Normalizing training reps\"):\n",
    "    reps_chunk = train_reps[i:i+chunk_size]\n",
    "    norms = np.linalg.norm(reps_chunk, axis=1, keepdims=True)\n",
    "    train_reps[i:i+chunk_size] = reps_chunk / (norms + 1e-10)  # Add epsilon to prevent division by zero\n",
    "\n",
    "# Building FAISS Index Incrementally\n",
    "\n",
    "# Initialize FAISS index (using Inner Product for cosine similarity assuming normalized vectors)\n",
    "index = faiss.IndexFlatIP(embed_dim)\n",
    "\n",
    "batch_size_faiss = 50000  # Adjust based on available RAM\n",
    "num_vectors = train_reps.shape[0]\n",
    "\n",
    "for i in tqdm(range(0, num_vectors, batch_size_faiss), desc=\"Adding to FAISS index\"):\n",
    "    reps_batch = train_reps[i:i+batch_size_faiss]\n",
    "    index.add(reps_batch)\n",
    "\n",
    "# Save the FAISS index to disk\n",
    "faiss.write_index(index, faiss_index_path)\n",
    "print(f\"FAISS index built successfully. Dimension: {index.d}, Number of vectors: {index.ntotal}\")\n",
    "\n",
    "# Retrieving Neighbor Contexts for Test Data\n",
    "test_reps_file = 'test_reps.memmap'\n",
    "test_targets_file = 'test_targets.memmap'\n",
    "\n",
    "# Extract and save test representations\n",
    "test_reps_file, test_targets_file = extract_representations(\n",
    "    base_model,\n",
    "    test_loader,\n",
    "    reps_filename=test_reps_file,\n",
    "    targets_filename=test_targets_file,\n",
    "    embed_dim=embed_dim,\n",
    "    device=device\n",
    ")\n",
    "print(\"Test representations extracted successfully.\")\n",
    "\n",
    "# Load Test Representations\n",
    "print(\"Loading test representations from memmap...\")\n",
    "total_test_samples = len(test_dataset) * block_size\n",
    "test_reps = np.memmap(test_reps_file, dtype='float32', mode='r+', shape=(total_test_samples, embed_dim))\n",
    "test_targets = np.memmap(test_targets_file, dtype='int64', mode='r+', shape=(total_test_samples,))\n",
    "\n",
    "# Normalize Test Representations in Chunks\n",
    "print(\"Normalizing test representations...\")\n",
    "for i in tqdm(range(0, test_reps.shape[0], chunk_size), desc=\"Normalizing test reps\"):\n",
    "    reps_chunk = test_reps[i:i+chunk_size]\n",
    "    norms = np.linalg.norm(reps_chunk, axis=1, keepdims=True)\n",
    "    test_reps[i:i+chunk_size] = reps_chunk / (norms + 1e-10)  # Add epsilon to prevent division by zero\n",
    "\n",
    "print(\"Test representations normalized successfully.\")\n",
    "\n",
    "# Load FAISS Index\n",
    "index = faiss.read_index(faiss_index_path)\n",
    "\n",
    "# Retrieve kNN Indices and Distances in Chunks\n",
    "print(\"Retrieving kNN for test representations...\")\n",
    "D_list = []\n",
    "I_list = []\n",
    "for i in tqdm(range(0, test_reps.shape[0], chunk_size), desc=\"kNN Retrieval\"):\n",
    "    reps_batch = test_reps[i:i+chunk_size].astype('float32')  # Ensure dtype is float32\n",
    "    if reps_batch.shape[1] != index.d:\n",
    "        print(f\"Dimension mismatch: reps_batch has d={reps_batch.shape[1]}, FAISS index has d={index.d}\")\n",
    "        raise AssertionError(f\"Dimension mismatch: reps_batch has d={index.d}, FAISS index has d={index.d}\")\n",
    "    D_batch, I_batch = index.search(reps_batch, k)\n",
    "    D_list.append(D_batch)\n",
    "    I_list.append(I_batch)\n",
    "D = np.vstack(D_list)\n",
    "I = np.vstack(I_list)\n",
    "print(\"kNN Retrieval completed successfully.\")\n",
    "\n",
    "# Constructing the Heterogeneous Graph\n",
    "def build_graph(test_reps, train_reps, I, test_targets, k):\n",
    "    graph = HeteroData()\n",
    "    # Nodes\n",
    "    graph['ao'].x = torch.tensor(test_reps, dtype=torch.float32)\n",
    "    graph['ao'].y = torch.tensor(test_targets, dtype=torch.long)  # Assign target labels\n",
    "    neighbor_indices = I.flatten()\n",
    "    neighbor_reps = train_reps[neighbor_indices]\n",
    "    graph['an'].x = torch.tensor(neighbor_reps, dtype=torch.float32)\n",
    "\n",
    "    # Intra-context edges (within 'ao' nodes)\n",
    "    num_ao_nodes = test_reps.shape[0]\n",
    "    src_intra = torch.arange(0, num_ao_nodes - 1, dtype=torch.long)\n",
    "    dst_intra = torch.arange(1, num_ao_nodes, dtype=torch.long)\n",
    "    graph['ao', 'rintra', 'ao'].edge_index = torch.stack([src_intra, dst_intra], dim=0)\n",
    "\n",
    "    # Inter-context edges (from 'an' to 'ao' nodes)\n",
    "    # Each 'an' node corresponds to a neighbor of an 'ao' node\n",
    "    num_an_nodes = I.shape[0] * I.shape[1]\n",
    "    src_inter = torch.arange(num_an_nodes, dtype=torch.long)  # 'an' node indices\n",
    "    dst_inter = torch.repeat_interleave(torch.arange(num_ao_nodes, dtype=torch.long), k)  # 'ao' node indices\n",
    "    graph['an', 'rinter', 'ao'].edge_index = torch.stack([src_inter, dst_inter], dim=0)\n",
    "\n",
    "    return graph\n",
    "\n",
    "graph = build_graph(test_reps, train_reps, I, test_targets, k)\n",
    "print(\"Graph constructed successfully.\")"
   ]
  },
  {
   "cell_type": "code",
   "execution_count": 10,
   "id": "cfb685b7-5a34-40a2-98e7-c0e4dbd14ce3",
   "metadata": {},
   "outputs": [
    {
     "name": "stdout",
     "output_type": "stream",
     "text": [
      "Added 1916928 self-edges for 'an' nodes.\n"
     ]
    }
   ],
   "source": [
    "class HeteroGNNModel(nn.Module):\n",
    "    def __init__(self, hidden_channels, num_layers, vocab_size):\n",
    "        super(HeteroGNNModel, self).__init__()\n",
    "        # Define HeteroConv layers\n",
    "        self.convs = nn.ModuleList()\n",
    "        for _ in range(num_layers):\n",
    "            conv = HeteroConv({\n",
    "                ('ao', 'rintra', 'ao'): SAGEConv((-1, -1), hidden_channels),\n",
    "                ('an', 'rinter', 'ao'): SAGEConv((-1, -1), hidden_channels),\n",
    "                ('an', 'self', 'an'): SAGEConv((-1, -1), hidden_channels),  # Added self-edges for 'an' nodes\n",
    "            }, aggr='mean')\n",
    "            self.convs.append(conv)\n",
    "        # Final linear layer\n",
    "        self.fc = nn.Linear(hidden_channels, vocab_size)\n",
    "\n",
    "    def forward(self, data):\n",
    "        x_dict, edge_index_dict = data.x_dict, data.edge_index_dict\n",
    "\n",
    "        for conv in self.convs:\n",
    "            x_dict = conv(x_dict, edge_index_dict)\n",
    "            # Apply activation\n",
    "            for key in x_dict:\n",
    "                x_dict[key] = F.relu(x_dict[key])\n",
    "\n",
    "            # Retain 'x' for node types without incoming edges\n",
    "            for node_type in data.node_types:\n",
    "                if node_type not in x_dict:\n",
    "                    x_dict[node_type] = data[node_type].x\n",
    "                    print(f\"Retained original features for node type '{node_type}'.\")\n",
    "\n",
    "        # Assume we are predicting for 'ao' nodes\n",
    "        x_ao = x_dict['ao']\n",
    "        logits = self.fc(x_ao)\n",
    "        return logits\n",
    "\n",
    "# Adding Self-Edges for 'an' Nodes to Prevent NoneType Errors\n",
    "num_an_nodes = graph['an'].x.size(0)\n",
    "src_self = torch.arange(num_an_nodes, dtype=torch.long)\n",
    "dst_self = src_self.clone()\n",
    "graph['an', 'self', 'an'].edge_index = torch.stack([src_self, dst_self], dim=0)\n",
    "print(f\"Added {num_an_nodes} self-edges for 'an' nodes.\")\n",
    "\n",
    "# Initialize the Heterogeneous GNN Model, Optimizer, and Loss Function\n",
    "gnn_model = HeteroGNNModel(hidden_channels, num_gnn_layers, vocab_size).to(device)\n",
    "optimizer_gnn = torch.optim.Adam(gnn_model.parameters(), lr=0.0005)\n",
    "criterion_gnn = nn.CrossEntropyLoss()\n",
    "scaler_gnn = GradScaler()"
   ]
  },
  {
   "cell_type": "code",
   "execution_count": 11,
   "id": "859a2c1a-5f2f-48b5-bc14-982a89f1cf79",
   "metadata": {},
   "outputs": [
    {
     "name": "stderr",
     "output_type": "stream",
     "text": [
      "/opt/conda/lib/python3.11/site-packages/torch_geometric/sampler/neighbor_sampler.py:61: UserWarning: Using 'NeighborSampler' without a 'pyg-lib' installation is deprecated and will be removed soon. Please install 'pyg-lib' for accelerated neighborhood sampling\n",
      "  warnings.warn(f\"Using '{self.__class__.__name__}' without a \"\n"
     ]
    }
   ],
   "source": [
    "# Defining NeighborLoaders for GNN\n",
    "\n",
    "train_loader_gnn = NeighborLoader(\n",
    "    graph,\n",
    "    num_neighbors=[10, 10],          # Number of neighbors to sample at each GNN layer\n",
    "    batch_size=1024,                  # Number of target nodes per batch\n",
    "    shuffle=True,\n",
    "    num_workers=num_workers,\n",
    "    input_nodes='ao',                 # Specify that 'ao' nodes are the target nodes\n",
    ")\n",
    "\n",
    "# Validation Loader for GNN\n",
    "valid_loader_gnn = NeighborLoader(\n",
    "    graph,\n",
    "    num_neighbors=[10, 10],          # Number of neighbors to sample at each GNN layer\n",
    "    batch_size=1024,                  # Number of target nodes per batch\n",
    "    shuffle=False,\n",
    "    num_workers=num_workers,\n",
    "    input_nodes='ao',                 # Specify that 'ao' nodes are the target nodes\n",
    ")\n",
    "\n",
    "# Test Loader for GNN\n",
    "test_loader_gnn = NeighborLoader(\n",
    "    graph,\n",
    "    num_neighbors=[10, 10],          # Number of neighbors to sample at each GNN layer\n",
    "    batch_size=1024,                  # Number of target nodes per batch\n",
    "    shuffle=False,\n",
    "    num_workers=num_workers,\n",
    "    input_nodes='ao',                 # Specify that 'ao' nodes are the target nodes\n",
    ")"
   ]
  },
  {
   "cell_type": "code",
   "execution_count": 12,
   "id": "7a0189dd-25b8-4958-9f1a-9cd4aeb4cf1e",
   "metadata": {},
   "outputs": [
    {
     "name": "stderr",
     "output_type": "stream",
     "text": [
      "GNN Epoch 1/20: 100%|██████████| 59/59 [00:01<00:00, 43.99it/s, loss=1.08]\n"
     ]
    },
    {
     "name": "stdout",
     "output_type": "stream",
     "text": [
      "Epoch 1, GNN Training Loss: 1.1009, GNN Training BPC: 1.5882, GNN Training Accuracy: 0.1082\n"
     ]
    },
    {
     "name": "stderr",
     "output_type": "stream",
     "text": [
      "GNN Validation: 100%|██████████| 59/59 [00:00<00:00, 67.33it/s]\n"
     ]
    },
    {
     "name": "stdout",
     "output_type": "stream",
     "text": [
      "Epoch 1, GNN Validation Loss: 4.2730, GNN Validation BPC: 6.1647, GNN Validation Accuracy: 0.1183\n"
     ]
    },
    {
     "name": "stderr",
     "output_type": "stream",
     "text": [
      "GNN Epoch 2/20: 100%|██████████| 59/59 [00:01<00:00, 43.90it/s, loss=0.956]\n"
     ]
    },
    {
     "name": "stdout",
     "output_type": "stream",
     "text": [
      "Epoch 2, GNN Training Loss: 1.0257, GNN Training BPC: 1.4797, GNN Training Accuracy: 0.1184\n"
     ]
    },
    {
     "name": "stderr",
     "output_type": "stream",
     "text": [
      "GNN Validation: 100%|██████████| 59/59 [00:00<00:00, 67.08it/s]\n"
     ]
    },
    {
     "name": "stdout",
     "output_type": "stream",
     "text": [
      "Epoch 2, GNN Validation Loss: 3.4563, GNN Validation BPC: 4.9864, GNN Validation Accuracy: 0.1183\n"
     ]
    },
    {
     "name": "stderr",
     "output_type": "stream",
     "text": [
      "GNN Epoch 3/20: 100%|██████████| 59/59 [00:01<00:00, 49.02it/s, loss=0.853]\n"
     ]
    },
    {
     "name": "stdout",
     "output_type": "stream",
     "text": [
      "Epoch 3, GNN Training Loss: 0.8895, GNN Training BPC: 1.2833, GNN Training Accuracy: 0.1261\n"
     ]
    },
    {
     "name": "stderr",
     "output_type": "stream",
     "text": [
      "GNN Validation: 100%|██████████| 59/59 [00:00<00:00, 67.81it/s]\n"
     ]
    },
    {
     "name": "stdout",
     "output_type": "stream",
     "text": [
      "Epoch 3, GNN Validation Loss: 3.3244, GNN Validation BPC: 4.7961, GNN Validation Accuracy: 0.2370\n"
     ]
    },
    {
     "name": "stderr",
     "output_type": "stream",
     "text": [
      "GNN Epoch 4/20: 100%|██████████| 59/59 [00:01<00:00, 45.18it/s, loss=0.799]\n"
     ]
    },
    {
     "name": "stdout",
     "output_type": "stream",
     "text": [
      "Epoch 4, GNN Training Loss: 0.8203, GNN Training BPC: 1.1834, GNN Training Accuracy: 0.1684\n"
     ]
    },
    {
     "name": "stderr",
     "output_type": "stream",
     "text": [
      "GNN Validation: 100%|██████████| 59/59 [00:00<00:00, 70.14it/s]\n"
     ]
    },
    {
     "name": "stdout",
     "output_type": "stream",
     "text": [
      "Epoch 4, GNN Validation Loss: 2.9919, GNN Validation BPC: 4.3164, GNN Validation Accuracy: 0.3084\n"
     ]
    },
    {
     "name": "stderr",
     "output_type": "stream",
     "text": [
      "GNN Epoch 5/20: 100%|██████████| 59/59 [00:01<00:00, 45.15it/s, loss=0.717]\n"
     ]
    },
    {
     "name": "stdout",
     "output_type": "stream",
     "text": [
      "Epoch 5, GNN Training Loss: 0.7546, GNN Training BPC: 1.0887, GNN Training Accuracy: 0.2689\n"
     ]
    },
    {
     "name": "stderr",
     "output_type": "stream",
     "text": [
      "GNN Validation: 100%|██████████| 59/59 [00:00<00:00, 67.13it/s]\n"
     ]
    },
    {
     "name": "stdout",
     "output_type": "stream",
     "text": [
      "Epoch 5, GNN Validation Loss: 2.6687, GNN Validation BPC: 3.8501, GNN Validation Accuracy: 0.3999\n"
     ]
    },
    {
     "name": "stderr",
     "output_type": "stream",
     "text": [
      "GNN Epoch 6/20: 100%|██████████| 59/59 [00:01<00:00, 43.78it/s, loss=0.642]\n"
     ]
    },
    {
     "name": "stdout",
     "output_type": "stream",
     "text": [
      "Epoch 6, GNN Training Loss: 0.6874, GNN Training BPC: 0.9916, GNN Training Accuracy: 0.3401\n"
     ]
    },
    {
     "name": "stderr",
     "output_type": "stream",
     "text": [
      "GNN Validation: 100%|██████████| 59/59 [00:00<00:00, 64.41it/s]\n"
     ]
    },
    {
     "name": "stdout",
     "output_type": "stream",
     "text": [
      "Epoch 6, GNN Validation Loss: 2.3511, GNN Validation BPC: 3.3919, GNN Validation Accuracy: 0.4448\n"
     ]
    },
    {
     "name": "stderr",
     "output_type": "stream",
     "text": [
      "GNN Epoch 7/20: 100%|██████████| 59/59 [00:01<00:00, 43.40it/s, loss=0.584]\n"
     ]
    },
    {
     "name": "stdout",
     "output_type": "stream",
     "text": [
      "Epoch 7, GNN Training Loss: 0.6207, GNN Training BPC: 0.8956, GNN Training Accuracy: 0.3948\n"
     ]
    },
    {
     "name": "stderr",
     "output_type": "stream",
     "text": [
      "GNN Validation: 100%|██████████| 59/59 [00:00<00:00, 67.16it/s]\n"
     ]
    },
    {
     "name": "stdout",
     "output_type": "stream",
     "text": [
      "Epoch 7, GNN Validation Loss: 2.1163, GNN Validation BPC: 3.0532, GNN Validation Accuracy: 0.4847\n"
     ]
    },
    {
     "name": "stderr",
     "output_type": "stream",
     "text": [
      "GNN Epoch 8/20: 100%|██████████| 59/59 [00:01<00:00, 43.88it/s, loss=0.542]\n"
     ]
    },
    {
     "name": "stdout",
     "output_type": "stream",
     "text": [
      "Epoch 8, GNN Training Loss: 0.5645, GNN Training BPC: 0.8144, GNN Training Accuracy: 0.4495\n"
     ]
    },
    {
     "name": "stderr",
     "output_type": "stream",
     "text": [
      "GNN Validation: 100%|██████████| 59/59 [00:00<00:00, 66.37it/s]\n"
     ]
    },
    {
     "name": "stdout",
     "output_type": "stream",
     "text": [
      "Epoch 8, GNN Validation Loss: 1.9266, GNN Validation BPC: 2.7795, GNN Validation Accuracy: 0.5311\n"
     ]
    },
    {
     "name": "stderr",
     "output_type": "stream",
     "text": [
      "GNN Epoch 9/20: 100%|██████████| 59/59 [00:01<00:00, 45.60it/s, loss=0.477]\n"
     ]
    },
    {
     "name": "stdout",
     "output_type": "stream",
     "text": [
      "Epoch 9, GNN Training Loss: 0.5187, GNN Training BPC: 0.7483, GNN Training Accuracy: 0.4933\n"
     ]
    },
    {
     "name": "stderr",
     "output_type": "stream",
     "text": [
      "GNN Validation: 100%|██████████| 59/59 [00:00<00:00, 70.74it/s]\n"
     ]
    },
    {
     "name": "stdout",
     "output_type": "stream",
     "text": [
      "Epoch 9, GNN Validation Loss: 1.7816, GNN Validation BPC: 2.5704, GNN Validation Accuracy: 0.5603\n"
     ]
    },
    {
     "name": "stderr",
     "output_type": "stream",
     "text": [
      "GNN Epoch 10/20: 100%|██████████| 59/59 [00:01<00:00, 46.01it/s, loss=0.437]\n"
     ]
    },
    {
     "name": "stdout",
     "output_type": "stream",
     "text": [
      "Epoch 10, GNN Training Loss: 0.4815, GNN Training BPC: 0.6946, GNN Training Accuracy: 0.5207\n"
     ]
    },
    {
     "name": "stderr",
     "output_type": "stream",
     "text": [
      "GNN Validation: 100%|██████████| 59/59 [00:00<00:00, 71.28it/s]\n"
     ]
    },
    {
     "name": "stdout",
     "output_type": "stream",
     "text": [
      "Epoch 10, GNN Validation Loss: 1.6690, GNN Validation BPC: 2.4079, GNN Validation Accuracy: 0.5844\n"
     ]
    },
    {
     "name": "stderr",
     "output_type": "stream",
     "text": [
      "GNN Epoch 11/20: 100%|██████████| 59/59 [00:01<00:00, 46.65it/s, loss=0.431]\n"
     ]
    },
    {
     "name": "stdout",
     "output_type": "stream",
     "text": [
      "Epoch 11, GNN Training Loss: 0.4514, GNN Training BPC: 0.6512, GNN Training Accuracy: 0.5454\n"
     ]
    },
    {
     "name": "stderr",
     "output_type": "stream",
     "text": [
      "GNN Validation: 100%|██████████| 59/59 [00:00<00:00, 68.80it/s]\n"
     ]
    },
    {
     "name": "stdout",
     "output_type": "stream",
     "text": [
      "Epoch 11, GNN Validation Loss: 1.5773, GNN Validation BPC: 2.2755, GNN Validation Accuracy: 0.6076\n"
     ]
    },
    {
     "name": "stderr",
     "output_type": "stream",
     "text": [
      "GNN Epoch 12/20: 100%|██████████| 59/59 [00:01<00:00, 48.46it/s, loss=0.429]\n"
     ]
    },
    {
     "name": "stdout",
     "output_type": "stream",
     "text": [
      "Epoch 12, GNN Training Loss: 0.4251, GNN Training BPC: 0.6133, GNN Training Accuracy: 0.5705\n"
     ]
    },
    {
     "name": "stderr",
     "output_type": "stream",
     "text": [
      "GNN Validation: 100%|██████████| 59/59 [00:00<00:00, 68.99it/s]\n"
     ]
    },
    {
     "name": "stdout",
     "output_type": "stream",
     "text": [
      "Epoch 12, GNN Validation Loss: 1.4916, GNN Validation BPC: 2.1520, GNN Validation Accuracy: 0.6266\n"
     ]
    },
    {
     "name": "stderr",
     "output_type": "stream",
     "text": [
      "GNN Epoch 13/20: 100%|██████████| 59/59 [00:01<00:00, 47.07it/s, loss=0.38] \n"
     ]
    },
    {
     "name": "stdout",
     "output_type": "stream",
     "text": [
      "Epoch 13, GNN Training Loss: 0.4028, GNN Training BPC: 0.5812, GNN Training Accuracy: 0.5896\n"
     ]
    },
    {
     "name": "stderr",
     "output_type": "stream",
     "text": [
      "GNN Validation: 100%|██████████| 59/59 [00:00<00:00, 72.85it/s]\n"
     ]
    },
    {
     "name": "stdout",
     "output_type": "stream",
     "text": [
      "Epoch 13, GNN Validation Loss: 1.4191, GNN Validation BPC: 2.0473, GNN Validation Accuracy: 0.6390\n"
     ]
    },
    {
     "name": "stderr",
     "output_type": "stream",
     "text": [
      "GNN Epoch 14/20: 100%|██████████| 59/59 [00:01<00:00, 46.32it/s, loss=0.377]\n"
     ]
    },
    {
     "name": "stdout",
     "output_type": "stream",
     "text": [
      "Epoch 14, GNN Training Loss: 0.3841, GNN Training BPC: 0.5542, GNN Training Accuracy: 0.6044\n"
     ]
    },
    {
     "name": "stderr",
     "output_type": "stream",
     "text": [
      "GNN Validation: 100%|██████████| 59/59 [00:00<00:00, 70.34it/s]\n"
     ]
    },
    {
     "name": "stdout",
     "output_type": "stream",
     "text": [
      "Epoch 14, GNN Validation Loss: 1.3544, GNN Validation BPC: 1.9540, GNN Validation Accuracy: 0.6494\n"
     ]
    },
    {
     "name": "stderr",
     "output_type": "stream",
     "text": [
      "GNN Epoch 15/20: 100%|██████████| 59/59 [00:01<00:00, 45.22it/s, loss=0.376]\n"
     ]
    },
    {
     "name": "stdout",
     "output_type": "stream",
     "text": [
      "Epoch 15, GNN Training Loss: 0.3680, GNN Training BPC: 0.5310, GNN Training Accuracy: 0.6165\n"
     ]
    },
    {
     "name": "stderr",
     "output_type": "stream",
     "text": [
      "GNN Validation: 100%|██████████| 59/59 [00:00<00:00, 70.94it/s]\n"
     ]
    },
    {
     "name": "stdout",
     "output_type": "stream",
     "text": [
      "Epoch 15, GNN Validation Loss: 1.2972, GNN Validation BPC: 1.8714, GNN Validation Accuracy: 0.6586\n"
     ]
    },
    {
     "name": "stderr",
     "output_type": "stream",
     "text": [
      "GNN Epoch 16/20: 100%|██████████| 59/59 [00:01<00:00, 46.57it/s, loss=0.334]\n"
     ]
    },
    {
     "name": "stdout",
     "output_type": "stream",
     "text": [
      "Epoch 16, GNN Training Loss: 0.3537, GNN Training BPC: 0.5103, GNN Training Accuracy: 0.6271\n"
     ]
    },
    {
     "name": "stderr",
     "output_type": "stream",
     "text": [
      "GNN Validation: 100%|██████████| 59/59 [00:00<00:00, 68.50it/s]\n"
     ]
    },
    {
     "name": "stdout",
     "output_type": "stream",
     "text": [
      "Epoch 16, GNN Validation Loss: 1.2474, GNN Validation BPC: 1.7996, GNN Validation Accuracy: 0.6656\n"
     ]
    },
    {
     "name": "stderr",
     "output_type": "stream",
     "text": [
      "GNN Epoch 17/20: 100%|██████████| 59/59 [00:01<00:00, 50.85it/s, loss=0.331]\n"
     ]
    },
    {
     "name": "stdout",
     "output_type": "stream",
     "text": [
      "Epoch 17, GNN Training Loss: 0.3412, GNN Training BPC: 0.4923, GNN Training Accuracy: 0.6362\n"
     ]
    },
    {
     "name": "stderr",
     "output_type": "stream",
     "text": [
      "GNN Validation: 100%|██████████| 59/59 [00:00<00:00, 67.10it/s]\n"
     ]
    },
    {
     "name": "stdout",
     "output_type": "stream",
     "text": [
      "Epoch 17, GNN Validation Loss: 1.1991, GNN Validation BPC: 1.7300, GNN Validation Accuracy: 0.6763\n"
     ]
    },
    {
     "name": "stderr",
     "output_type": "stream",
     "text": [
      "GNN Epoch 18/20: 100%|██████████| 59/59 [00:01<00:00, 46.84it/s, loss=0.342]\n"
     ]
    },
    {
     "name": "stdout",
     "output_type": "stream",
     "text": [
      "Epoch 18, GNN Training Loss: 0.3311, GNN Training BPC: 0.4777, GNN Training Accuracy: 0.6462\n"
     ]
    },
    {
     "name": "stderr",
     "output_type": "stream",
     "text": [
      "GNN Validation: 100%|██████████| 59/59 [00:00<00:00, 66.92it/s]\n"
     ]
    },
    {
     "name": "stdout",
     "output_type": "stream",
     "text": [
      "Epoch 18, GNN Validation Loss: 1.1555, GNN Validation BPC: 1.6670, GNN Validation Accuracy: 0.6862\n"
     ]
    },
    {
     "name": "stderr",
     "output_type": "stream",
     "text": [
      "GNN Epoch 19/20: 100%|██████████| 59/59 [00:01<00:00, 44.94it/s, loss=0.324]\n"
     ]
    },
    {
     "name": "stdout",
     "output_type": "stream",
     "text": [
      "Epoch 19, GNN Training Loss: 0.3212, GNN Training BPC: 0.4634, GNN Training Accuracy: 0.6556\n"
     ]
    },
    {
     "name": "stderr",
     "output_type": "stream",
     "text": [
      "GNN Validation: 100%|██████████| 59/59 [00:00<00:00, 65.25it/s]\n"
     ]
    },
    {
     "name": "stdout",
     "output_type": "stream",
     "text": [
      "Epoch 19, GNN Validation Loss: 1.1195, GNN Validation BPC: 1.6151, GNN Validation Accuracy: 0.6939\n"
     ]
    },
    {
     "name": "stderr",
     "output_type": "stream",
     "text": [
      "GNN Epoch 20/20: 100%|██████████| 59/59 [00:01<00:00, 45.65it/s, loss=0.31] \n"
     ]
    },
    {
     "name": "stdout",
     "output_type": "stream",
     "text": [
      "Epoch 20, GNN Training Loss: 0.3120, GNN Training BPC: 0.4501, GNN Training Accuracy: 0.6638\n"
     ]
    },
    {
     "name": "stderr",
     "output_type": "stream",
     "text": [
      "GNN Validation: 100%|██████████| 59/59 [00:00<00:00, 67.14it/s]"
     ]
    },
    {
     "name": "stdout",
     "output_type": "stream",
     "text": [
      "Epoch 20, GNN Validation Loss: 1.0805, GNN Validation BPC: 1.5589, GNN Validation Accuracy: 0.7037\n",
      "Heterogeneous GNN model trained and saved successfully.\n"
     ]
    },
    {
     "name": "stderr",
     "output_type": "stream",
     "text": [
      "\n"
     ]
    }
   ],
   "source": [
    "for epoch in range(num_epochs):\n",
    "    gnn_model.train()\n",
    "    total_loss_gnn = 0\n",
    "    correct_predictions_gnn = 0  # For accuracy\n",
    "    total_tokens_gnn = 0         # For accuracy\n",
    "    \n",
    "    optimizer_gnn.zero_grad()\n",
    "    progress_bar = tqdm(train_loader_gnn, desc=f\"GNN Epoch {epoch+1}/{num_epochs}\")\n",
    "    for i, batch in enumerate(progress_bar):\n",
    "        batch = batch.to(device)\n",
    "        for node_type in batch.node_types:\n",
    "            x = batch[node_type].x\n",
    "            if node_type == 'ao':\n",
    "                if not hasattr(batch['ao'], 'y') or batch['ao'].y is None:\n",
    "                    print(\"Error: 'ao' nodes do not have 'y' attribute assigned.\")\n",
    "        # Ensure 'ao' nodes have 'y' attribute\n",
    "        target = batch['ao'].y  # Ensure 'ao' nodes have 'y' attribute assigned\n",
    "        assert target is not None, \"Target 'y' attribute for 'ao' nodes is missing.\"\n",
    "\n",
    "        with autocast():\n",
    "            logits = gnn_model(batch)\n",
    "            loss = criterion_gnn(logits, target)\n",
    "            loss = loss / accumulation_steps  # Normalize loss for gradient accumulation\n",
    "\n",
    "        scaler_gnn.scale(loss).backward()\n",
    "\n",
    "        if (i + 1) % accumulation_steps == 0:\n",
    "            scaler_gnn.step(optimizer_gnn)\n",
    "            scaler_gnn.update()\n",
    "            optimizer_gnn.zero_grad()\n",
    "\n",
    "        total_loss_gnn += loss.item()\n",
    "        \n",
    "        # Compute accuracy\n",
    "        predictions_gnn = logits.argmax(dim=-1)\n",
    "        correct_predictions_gnn += (predictions_gnn == target).sum().item()\n",
    "        total_tokens_gnn += target.numel()\n",
    "        \n",
    "        progress_bar.set_postfix(loss=loss.item())\n",
    "\n",
    "    # Handle remaining gradients\n",
    "    if (i + 1) % accumulation_steps != 0:\n",
    "        scaler_gnn.step(optimizer_gnn)\n",
    "        scaler_gnn.update()\n",
    "        optimizer_gnn.zero_grad()\n",
    "\n",
    "    avg_loss_gnn = total_loss_gnn / len(train_loader_gnn)\n",
    "    gnn_train_losses.append(avg_loss_gnn)\n",
    "    \n",
    "    # Calculate BPC for GNN training\n",
    "    gnn_train_bpc = avg_loss_gnn / math.log(2)\n",
    "    gnn_train_bpcs.append(gnn_train_bpc)\n",
    "    \n",
    "    # Calculate Accuracy for GNN training\n",
    "    gnn_train_accuracy = correct_predictions_gnn / total_tokens_gnn\n",
    "    gnn_train_accuracies.append(gnn_train_accuracy)\n",
    "    \n",
    "    print(f'Epoch {epoch+1}, GNN Training Loss: {avg_loss_gnn:.4f}, GNN Training BPC: {gnn_train_bpc:.4f}, GNN Training Accuracy: {gnn_train_accuracy:.4f}')\n",
    "    \n",
    "    # Validation Phase for GNN\n",
    "    gnn_model.eval()\n",
    "    gnn_val_loss = 0\n",
    "    correct_val_gnn = 0\n",
    "    total_val_gnn = 0\n",
    "    with torch.no_grad():\n",
    "        for batch in tqdm(valid_loader_gnn, desc=\"GNN Validation\"):\n",
    "            batch = batch.to(device)\n",
    "            logits = gnn_model(batch)\n",
    "            target = batch['ao'].y\n",
    "            loss_val_gnn = criterion_gnn(logits, target)\n",
    "            gnn_val_loss += loss_val_gnn.item()\n",
    "            \n",
    "            # Compute accuracy\n",
    "            predictions_val_gnn = logits.argmax(dim=-1)\n",
    "            correct_val_gnn += (predictions_val_gnn == target).sum().item()\n",
    "            total_val_gnn += target.numel()\n",
    "\n",
    "    avg_val_loss_gnn = gnn_val_loss / len(valid_loader_gnn)\n",
    "    gnn_val_losses.append(avg_val_loss_gnn)\n",
    "    \n",
    "    # Calculate BPC for GNN validation\n",
    "    gnn_val_bpc = avg_val_loss_gnn / math.log(2)\n",
    "    gnn_val_bpcs.append(gnn_val_bpc)\n",
    "    \n",
    "    # Calculate Validation Accuracy for GNN\n",
    "    gnn_val_accuracy = correct_val_gnn / total_val_gnn\n",
    "    gnn_val_accuracies.append(gnn_val_accuracy)\n",
    "    \n",
    "    print(f'Epoch {epoch+1}, GNN Validation Loss: {avg_val_loss_gnn:.4f}, GNN Validation BPC: {gnn_val_bpc:.4f}, GNN Validation Accuracy: {gnn_val_accuracy:.4f}')\n",
    "    \n",
    "    # Clear GPU cache to free up memory\n",
    "    torch.cuda.empty_cache()\n",
    "\n",
    "# Save the GNN Model\n",
    "torch.save(gnn_model.state_dict(), 'gnn_model.pth')\n",
    "print(\"Heterogeneous GNN model trained and saved successfully.\")"
   ]
  },
  {
   "cell_type": "code",
   "execution_count": 13,
   "id": "0784f7c8-087d-4f7b-b33e-9d53d7d41c8a",
   "metadata": {},
   "outputs": [
    {
     "name": "stderr",
     "output_type": "stream",
     "text": [
      "Evaluating GNN on Test Set: 100%|██████████| 59/59 [00:00<00:00, 70.99it/s]"
     ]
    },
    {
     "name": "stdout",
     "output_type": "stream",
     "text": [
      "Accuracy on test set: 70.35%\n",
      "Test BPC: 1.5559\n"
     ]
    },
    {
     "name": "stderr",
     "output_type": "stream",
     "text": [
      "\n"
     ]
    }
   ],
   "source": [
    "# Evaluate the GNN Model on the Test Set\n",
    "\n",
    "gnn_model.eval()\n",
    "total_correct = 0\n",
    "total_count = 0\n",
    "total_loss = 0.0\n",
    "\n",
    "with torch.no_grad():\n",
    "    for batch in tqdm(test_loader_gnn, desc=\"Evaluating GNN on Test Set\"):\n",
    "        batch = batch.to(device)\n",
    "        logits = gnn_model(batch)\n",
    "        target = batch['ao'].y\n",
    "        loss = criterion_gnn(logits, target)\n",
    "        total_loss += loss.item() * target.size(0)  # Accumulate loss weighted by batch size\n",
    "\n",
    "        predictions = logits.argmax(dim=-1)\n",
    "        correct = (predictions == target).sum().item()\n",
    "        total_correct += correct\n",
    "        total_count += target.size(0)\n",
    "\n",
    "avg_loss = total_loss / total_count\n",
    "accuracy = total_correct / total_count\n",
    "bpc = avg_loss / math.log(2)\n",
    "\n",
    "print(f'Accuracy on test set: {accuracy * 100:.2f}%')\n",
    "print(f'Test BPC: {bpc:.4f}')"
   ]
  },
  {
   "cell_type": "code",
   "execution_count": 14,
   "id": "425a7c18-68ff-44f8-bdfa-5ec62bca480c",
   "metadata": {},
   "outputs": [
    {
     "data": {
      "image/png": "[encoded data removed]",
      "text/plain": [
       "<Figure size 1400x500 with 2 Axes>"
      ]
     },
     "metadata": {},
     "output_type": "display_data"
    },
    {
     "data": {
      "image/png": "[encoded data removed]",
      "text/plain": [
       "<Figure size 700x500 with 1 Axes>"
      ]
     },
     "metadata": {},
     "output_type": "display_data"
    },
    {
     "data": {
      "image/png": "[encoded data removed]",
      "text/plain": [
       "<Figure size 1400x500 with 2 Axes>"
      ]
     },
     "metadata": {},
     "output_type": "display_data"
    },
    {
     "data": {
      "image/png": "[encoded data removed]",
      "text/plain": [
       "<Figure size 700x500 with 1 Axes>"
      ]
     },
     "metadata": {},
     "output_type": "display_data"
    }
   ],
   "source": [
    "epochs_range = range(1, num_epochs + 1)\n",
    "\n",
    "# Visualization of Training and Validation Loss and BPC for Base Transformer Model\n",
    "plt.figure(figsize=(14, 5))\n",
    "\n",
    "# Plot Loss\n",
    "plt.subplot(1, 2, 1)\n",
    "plt.plot(epochs_range, train_losses, label='Training Loss', marker='o')\n",
    "plt.plot(epochs_range, val_losses, label='Validation Loss', marker='o')\n",
    "plt.xlabel('Epochs')\n",
    "plt.ylabel('Loss')\n",
    "plt.title('Base Transformer: Training and Validation Loss')\n",
    "plt.legend()\n",
    "plt.grid(True)\n",
    "\n",
    "# Plot BPC\n",
    "plt.subplot(1, 2, 2)\n",
    "plt.plot(epochs_range, train_bpcs, label='Training BPC', marker='o')\n",
    "plt.plot(epochs_range, val_bpcs, label='Validation BPC', marker='o')\n",
    "plt.xlabel('Epochs')\n",
    "plt.ylabel('Bits Per Character (BPC)')\n",
    "plt.title('Base Transformer: Training and Validation BPC')\n",
    "plt.legend()\n",
    "plt.grid(True)\n",
    "\n",
    "plt.tight_layout()\n",
    "plt.show()\n",
    "\n",
    "# Visualization of Training and Validation Accuracy for Base Transformer Model\n",
    "plt.figure(figsize=(7, 5))\n",
    "plt.plot(epochs_range, train_accuracies, label='Training Accuracy', marker='o')\n",
    "plt.plot(epochs_range, val_accuracies, label='Validation Accuracy', marker='o')\n",
    "plt.xlabel('Epochs')\n",
    "plt.ylabel('Accuracy')\n",
    "plt.title('Base Transformer: Training and Validation Accuracy')\n",
    "plt.legend()\n",
    "plt.grid(True)\n",
    "plt.show()\n",
    "\n",
    "# Visualization of Training and Validation Loss and BPC for Heterogeneous GNN Model\n",
    "plt.figure(figsize=(14, 5))\n",
    "\n",
    "# Plot Loss\n",
    "plt.subplot(1, 2, 1)\n",
    "plt.plot(epochs_range, gnn_train_losses, label='GNN Training Loss', marker='o')\n",
    "plt.plot(epochs_range, gnn_val_losses, label='GNN Validation Loss', marker='o')\n",
    "plt.xlabel('Epochs')\n",
    "plt.ylabel('Loss')\n",
    "plt.title('Heterogeneous GNN: Training and Validation Loss')\n",
    "plt.legend()\n",
    "plt.grid(True)\n",
    "\n",
    "# Plot BPC\n",
    "plt.subplot(1, 2, 2)\n",
    "plt.plot(epochs_range, gnn_train_bpcs, label='GNN Training BPC', marker='o')\n",
    "plt.plot(epochs_range, gnn_val_bpcs, label='GNN Validation BPC', marker='o')\n",
    "plt.xlabel('Epochs')\n",
    "plt.ylabel('Bits Per Character (BPC)')\n",
    "plt.title('Heterogeneous GNN: Training and Validation BPC')\n",
    "plt.legend()\n",
    "plt.grid(True)\n",
    "\n",
    "plt.tight_layout()\n",
    "plt.show()\n",
    "\n",
    "# Visualization of Training and Validation Accuracy for Heterogeneous GNN Model\n",
    "plt.figure(figsize=(7, 5))\n",
    "plt.plot(epochs_range, gnn_train_accuracies, label='GNN Training Accuracy', marker='o')\n",
    "plt.plot(epochs_range, gnn_val_accuracies, label='GNN Validation Accuracy', marker='o')\n",
    "plt.xlabel('Epochs')\n",
    "plt.ylabel('Accuracy')\n",
    "plt.title('Heterogeneous GNN: Training and Validation Accuracy')\n",
    "plt.legend()\n",
    "plt.grid(True)\n",
    "plt.show()"
   ]
  }
 ],
 "metadata": {
  "kernelspec": {
   "display_name": "Python 3 (ipykernel)",
   "language": "python",
   "name": "python3"
  },
  "language_info": {
   "codemirror_mode": {
    "name": "ipython",
    "version": 3
   },
   "file_extension": ".py",
   "mimetype": "text/x-python",
   "name": "python",
   "nbconvert_exporter": "python",
   "pygments_lexer": "ipython3",
   "version": "3.11.9"
  }
 },
 "nbformat": 4,
 "nbformat_minor": 5
}
