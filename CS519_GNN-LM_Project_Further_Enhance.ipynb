{
 "cells": [
  {
   "cell_type": "code",
   "execution_count": 1,
   "id": "b59e9998-60d5-4889-a83c-9b394f263026",
   "metadata": {},
   "outputs": [
    {
     "name": "stdout",
     "output_type": "stream",
     "text": [
      "Loaded Transformer model successfully.\n",
      "Loaded Baseline GNN model successfully.\n",
      "Loading training representations...\n",
      "Loaded training representations successfully.\n",
      "Loading test representations...\n",
      "Loaded test representations successfully.\n",
      "Training representations reshaped to: (507904, 64)\n",
      "Test representations reshaped to: (59904, 64)\n",
      "Normalizing representations...\n",
      "Normalization completed.\n",
      "Loading FAISS index...\n",
      "FAISS index loaded. Dimension: 64, Number of vectors: 507904\n",
      "Retrieving kNN for test representations...\n",
      "kNN retrieval completed.\n",
      "Applying threshold-based relevance...\n",
      "Threshold-based relevance applied.\n",
      "Memory usage before building graph:\n",
      "Current memory usage: 1.02 GB\n",
      "Building Heterogeneous Graph...\n",
      "Starting graph construction...\n",
      "Assigning 'ao' node features and labels...\n",
      "Filtering invalid neighbor indices...\n",
      "Number of valid neighbors: 3833856\n",
      "Retrieving 'an' node representations...\n",
      "'an' node features shape: torch.Size([3833856, 64])\n",
      "Creating intra-context edges for 'ao' nodes...\n",
      "Intra-context edges shape: torch.Size([2, 59903])\n",
      "Creating inter-context edges from 'an' to 'ao' nodes...\n",
      "Inter-context edges shape: torch.Size([2, 3833856])\n",
      "Assigning edge attributes based on similarity scores...\n",
      "Edge weights shape before adjustment: torch.Size([3833856])\n",
      "Assigned edge attributes shape: torch.Size([3833856])\n",
      "Adding 'an', 'self', 'an' edges with empty edge_index...\n",
      "'an', 'self', 'an' edges shape: torch.Size([2, 0])\n",
      "Graph construction completed successfully.\n",
      "Heterogeneous Graph built successfully.\n",
      "Memory usage after building graph:\n",
      "Current memory usage: 2.14 GB\n",
      "Defining NeighborLoaders...\n"
     ]
    },
    {
     "name": "stderr",
     "output_type": "stream",
     "text": [
      "/opt/conda/lib/python3.11/site-packages/torch_geometric/sampler/neighbor_sampler.py:61: UserWarning: Using 'NeighborSampler' without a 'pyg-lib' installation is deprecated and will be removed soon. Please install 'pyg-lib' for accelerated neighborhood sampling\n",
      "  warnings.warn(f\"Using '{self.__class__.__name__}' without a \"\n"
     ]
    },
    {
     "name": "stdout",
     "output_type": "stream",
     "text": [
      "NeighborLoaders defined successfully.\n",
      "Evaluating Baseline GNN on Validation Set...\n"
     ]
    },
    {
     "name": "stderr",
     "output_type": "stream",
     "text": [
      "Evaluating GNN: 100%|██████████| 59/59 [00:01<00:00, 44.66it/s]\n"
     ]
    },
    {
     "name": "stdout",
     "output_type": "stream",
     "text": [
      "Baseline GNN Validation Loss: 1.3605, BPC: 1.9628, Accuracy: 0.6435\n",
      "Evaluating Baseline GNN on Test Set...\n"
     ]
    },
    {
     "name": "stderr",
     "output_type": "stream",
     "text": [
      "Evaluating GNN: 100%|██████████| 59/59 [00:01<00:00, 50.71it/s]\n"
     ]
    },
    {
     "name": "stdout",
     "output_type": "stream",
     "text": [
      "Baseline GNN Test Loss: 1.3605, BPC: 1.9628, Accuracy: 0.6423\n",
      "Initializing Enhanced GNN Model...\n",
      "Enhanced GNN Model initialized successfully.\n",
      "Starting training of Enhanced GNN with enhancements...\n"
     ]
    },
    {
     "name": "stderr",
     "output_type": "stream",
     "text": [
      "Epoch 1/30: 100%|██████████| 59/59 [00:01<00:00, 36.34it/s, loss=1.09]\n"
     ]
    },
    {
     "name": "stdout",
     "output_type": "stream",
     "text": [
      "Epoch 1: Training Loss: 1.1044, BPC: 1.5934, Accuracy: 0.0770\n"
     ]
    },
    {
     "name": "stderr",
     "output_type": "stream",
     "text": [
      "Validation: 100%|██████████| 59/59 [00:01<00:00, 49.40it/s]\n"
     ]
    },
    {
     "name": "stdout",
     "output_type": "stream",
     "text": [
      "Epoch 1: Validation Loss: 4.3335, BPC: 6.2520, Accuracy: 0.1271\n"
     ]
    },
    {
     "name": "stderr",
     "output_type": "stream",
     "text": [
      "Epoch 2/30: 100%|██████████| 59/59 [00:01<00:00, 40.68it/s, loss=0.979]\n"
     ]
    },
    {
     "name": "stdout",
     "output_type": "stream",
     "text": [
      "Epoch 2: Training Loss: 1.0493, BPC: 1.5138, Accuracy: 0.1493\n"
     ]
    },
    {
     "name": "stderr",
     "output_type": "stream",
     "text": [
      "Validation: 100%|██████████| 59/59 [00:01<00:00, 52.07it/s]\n"
     ]
    },
    {
     "name": "stdout",
     "output_type": "stream",
     "text": [
      "Epoch 2: Validation Loss: 3.7036, BPC: 5.3432, Accuracy: 0.0879\n"
     ]
    },
    {
     "name": "stderr",
     "output_type": "stream",
     "text": [
      "Epoch 3/30: 100%|██████████| 59/59 [00:01<00:00, 38.83it/s, loss=0.888]\n"
     ]
    },
    {
     "name": "stdout",
     "output_type": "stream",
     "text": [
      "Epoch 3: Training Loss: 0.9192, BPC: 1.3261, Accuracy: 0.1188\n"
     ]
    },
    {
     "name": "stderr",
     "output_type": "stream",
     "text": [
      "Validation: 100%|██████████| 59/59 [00:01<00:00, 53.19it/s]\n"
     ]
    },
    {
     "name": "stdout",
     "output_type": "stream",
     "text": [
      "Epoch 3: Validation Loss: 3.5723, BPC: 5.1537, Accuracy: 0.1183\n"
     ]
    },
    {
     "name": "stderr",
     "output_type": "stream",
     "text": [
      "Epoch 4/30: 100%|██████████| 59/59 [00:01<00:00, 36.19it/s, loss=0.854]\n"
     ]
    },
    {
     "name": "stdout",
     "output_type": "stream",
     "text": [
      "Epoch 4: Training Loss: 0.8653, BPC: 1.2484, Accuracy: 0.1182\n"
     ]
    },
    {
     "name": "stderr",
     "output_type": "stream",
     "text": [
      "Validation: 100%|██████████| 59/59 [00:01<00:00, 49.48it/s]\n"
     ]
    },
    {
     "name": "stdout",
     "output_type": "stream",
     "text": [
      "Epoch 4: Validation Loss: 3.3298, BPC: 4.8038, Accuracy: 0.1183\n"
     ]
    },
    {
     "name": "stderr",
     "output_type": "stream",
     "text": [
      "Epoch 5/30: 100%|██████████| 59/59 [00:01<00:00, 39.88it/s, loss=0.797]\n"
     ]
    },
    {
     "name": "stdout",
     "output_type": "stream",
     "text": [
      "Epoch 5: Training Loss: 0.8255, BPC: 1.1910, Accuracy: 0.1190\n"
     ]
    },
    {
     "name": "stderr",
     "output_type": "stream",
     "text": [
      "Validation: 100%|██████████| 59/59 [00:01<00:00, 55.09it/s]\n"
     ]
    },
    {
     "name": "stdout",
     "output_type": "stream",
     "text": [
      "Epoch 5: Validation Loss: 3.2228, BPC: 4.6495, Accuracy: 0.1210\n",
      "\n",
      "Rebuilding graph at epoch 5 with dynamic enhancements.\n",
      "Adjusted k based on current entropy (4.6495): 16\n",
      "Retrieving new kNN with adjusted k...\n",
      "New kNN retrieval completed.\n",
      "Applying threshold-based relevance on new kNN...\n",
      "Threshold-based relevance applied.\n",
      "Rebuilding Heterogeneous Graph with new k and threshold...\n",
      "Starting graph construction...\n",
      "Assigning 'ao' node features and labels...\n",
      "Filtering invalid neighbor indices...\n",
      "Number of valid neighbors: 958464\n",
      "Retrieving 'an' node representations...\n",
      "'an' node features shape: torch.Size([958464, 64])\n",
      "Creating intra-context edges for 'ao' nodes...\n",
      "Intra-context edges shape: torch.Size([2, 59903])\n",
      "Creating inter-context edges from 'an' to 'ao' nodes...\n",
      "Inter-context edges shape: torch.Size([2, 958464])\n",
      "Assigning edge attributes based on similarity scores...\n",
      "Edge weights shape before adjustment: torch.Size([958464])\n",
      "Assigned edge attributes shape: torch.Size([958464])\n",
      "Adding 'an', 'self', 'an' edges with empty edge_index...\n",
      "'an', 'self', 'an' edges shape: torch.Size([2, 0])\n",
      "Graph construction completed successfully.\n",
      "Heterogeneous Graph rebuilt successfully.\n",
      "Updating NeighborLoaders with the new graph...\n",
      "NeighborLoaders updated with the new graph.\n",
      "\n"
     ]
    },
    {
     "name": "stderr",
     "output_type": "stream",
     "text": [
      "Epoch 6/30: 100%|██████████| 59/59 [00:01<00:00, 39.51it/s, loss=0.772]\n"
     ]
    },
    {
     "name": "stdout",
     "output_type": "stream",
     "text": [
      "Epoch 6: Training Loss: 0.7930, BPC: 1.1441, Accuracy: 0.1451\n"
     ]
    },
    {
     "name": "stderr",
     "output_type": "stream",
     "text": [
      "Validation: 100%|██████████| 59/59 [00:01<00:00, 51.60it/s]\n"
     ]
    },
    {
     "name": "stdout",
     "output_type": "stream",
     "text": [
      "Epoch 6: Validation Loss: 3.0804, BPC: 4.4441, Accuracy: 0.2255\n"
     ]
    },
    {
     "name": "stderr",
     "output_type": "stream",
     "text": [
      "Epoch 7/30: 100%|██████████| 59/59 [00:01<00:00, 39.33it/s, loss=0.737]\n"
     ]
    },
    {
     "name": "stdout",
     "output_type": "stream",
     "text": [
      "Epoch 7: Training Loss: 0.7527, BPC: 1.0859, Accuracy: 0.2591\n"
     ]
    },
    {
     "name": "stderr",
     "output_type": "stream",
     "text": [
      "Validation: 100%|██████████| 59/59 [00:00<00:00, 60.13it/s]\n"
     ]
    },
    {
     "name": "stdout",
     "output_type": "stream",
     "text": [
      "Epoch 7: Validation Loss: 2.8586, BPC: 4.1241, Accuracy: 0.3254\n"
     ]
    },
    {
     "name": "stderr",
     "output_type": "stream",
     "text": [
      "Epoch 8/30: 100%|██████████| 59/59 [00:01<00:00, 37.98it/s, loss=0.665]\n"
     ]
    },
    {
     "name": "stdout",
     "output_type": "stream",
     "text": [
      "Epoch 8: Training Loss: 0.6937, BPC: 1.0008, Accuracy: 0.3234\n"
     ]
    },
    {
     "name": "stderr",
     "output_type": "stream",
     "text": [
      "Validation: 100%|██████████| 59/59 [00:01<00:00, 50.37it/s]\n"
     ]
    },
    {
     "name": "stdout",
     "output_type": "stream",
     "text": [
      "Epoch 8: Validation Loss: 2.5987, BPC: 3.7492, Accuracy: 0.3755\n"
     ]
    },
    {
     "name": "stderr",
     "output_type": "stream",
     "text": [
      "Epoch 9/30: 100%|██████████| 59/59 [00:01<00:00, 40.86it/s, loss=0.608]\n"
     ]
    },
    {
     "name": "stdout",
     "output_type": "stream",
     "text": [
      "Epoch 9: Training Loss: 0.6321, BPC: 0.9119, Accuracy: 0.3742\n"
     ]
    },
    {
     "name": "stderr",
     "output_type": "stream",
     "text": [
      "Validation: 100%|██████████| 59/59 [00:01<00:00, 54.68it/s]\n"
     ]
    },
    {
     "name": "stdout",
     "output_type": "stream",
     "text": [
      "Epoch 9: Validation Loss: 2.3530, BPC: 3.3947, Accuracy: 0.4150\n"
     ]
    },
    {
     "name": "stderr",
     "output_type": "stream",
     "text": [
      "Epoch 10/30: 100%|██████████| 59/59 [00:01<00:00, 35.53it/s, loss=0.56] \n"
     ]
    },
    {
     "name": "stdout",
     "output_type": "stream",
     "text": [
      "Epoch 10: Training Loss: 0.5777, BPC: 0.8334, Accuracy: 0.4288\n"
     ]
    },
    {
     "name": "stderr",
     "output_type": "stream",
     "text": [
      "Validation: 100%|██████████| 59/59 [00:01<00:00, 51.90it/s]\n"
     ]
    },
    {
     "name": "stdout",
     "output_type": "stream",
     "text": [
      "Epoch 10: Validation Loss: 2.1463, BPC: 3.0965, Accuracy: 0.4586\n",
      "\n",
      "Rebuilding graph at epoch 10 with dynamic enhancements.\n",
      "Adjusted k based on current entropy (3.0965): 16\n",
      "Retrieving new kNN with adjusted k...\n",
      "New kNN retrieval completed.\n",
      "Applying threshold-based relevance on new kNN...\n",
      "Threshold-based relevance applied.\n",
      "Rebuilding Heterogeneous Graph with new k and threshold...\n",
      "Starting graph construction...\n",
      "Assigning 'ao' node features and labels...\n",
      "Filtering invalid neighbor indices...\n",
      "Number of valid neighbors: 958464\n",
      "Retrieving 'an' node representations...\n",
      "'an' node features shape: torch.Size([958464, 64])\n",
      "Creating intra-context edges for 'ao' nodes...\n",
      "Intra-context edges shape: torch.Size([2, 59903])\n",
      "Creating inter-context edges from 'an' to 'ao' nodes...\n",
      "Inter-context edges shape: torch.Size([2, 958464])\n",
      "Assigning edge attributes based on similarity scores...\n",
      "Edge weights shape before adjustment: torch.Size([958464])\n",
      "Assigned edge attributes shape: torch.Size([958464])\n",
      "Adding 'an', 'self', 'an' edges with empty edge_index...\n",
      "'an', 'self', 'an' edges shape: torch.Size([2, 0])\n",
      "Graph construction completed successfully.\n",
      "Heterogeneous Graph rebuilt successfully.\n",
      "Updating NeighborLoaders with the new graph...\n",
      "NeighborLoaders updated with the new graph.\n",
      "\n"
     ]
    },
    {
     "name": "stderr",
     "output_type": "stream",
     "text": [
      "Epoch 11/30: 100%|██████████| 59/59 [00:01<00:00, 35.44it/s, loss=0.512]\n"
     ]
    },
    {
     "name": "stdout",
     "output_type": "stream",
     "text": [
      "Epoch 11: Training Loss: 0.5321, BPC: 0.7676, Accuracy: 0.4597\n"
     ]
    },
    {
     "name": "stderr",
     "output_type": "stream",
     "text": [
      "Validation: 100%|██████████| 59/59 [00:01<00:00, 48.81it/s]\n"
     ]
    },
    {
     "name": "stdout",
     "output_type": "stream",
     "text": [
      "Epoch 11: Validation Loss: 1.9728, BPC: 2.8462, Accuracy: 0.4904\n"
     ]
    },
    {
     "name": "stderr",
     "output_type": "stream",
     "text": [
      "Epoch 12/30: 100%|██████████| 59/59 [00:01<00:00, 36.25it/s, loss=0.49] \n"
     ]
    },
    {
     "name": "stdout",
     "output_type": "stream",
     "text": [
      "Epoch 12: Training Loss: 0.4969, BPC: 0.7169, Accuracy: 0.4857\n"
     ]
    },
    {
     "name": "stderr",
     "output_type": "stream",
     "text": [
      "Validation: 100%|██████████| 59/59 [00:01<00:00, 49.87it/s]\n"
     ]
    },
    {
     "name": "stdout",
     "output_type": "stream",
     "text": [
      "Epoch 12: Validation Loss: 1.8453, BPC: 2.6622, Accuracy: 0.5226\n"
     ]
    },
    {
     "name": "stderr",
     "output_type": "stream",
     "text": [
      "Epoch 13/30: 100%|██████████| 59/59 [00:01<00:00, 39.30it/s, loss=0.472]\n"
     ]
    },
    {
     "name": "stdout",
     "output_type": "stream",
     "text": [
      "Epoch 13: Training Loss: 0.4678, BPC: 0.6749, Accuracy: 0.5104\n"
     ]
    },
    {
     "name": "stderr",
     "output_type": "stream",
     "text": [
      "Validation: 100%|██████████| 59/59 [00:01<00:00, 46.95it/s]\n"
     ]
    },
    {
     "name": "stdout",
     "output_type": "stream",
     "text": [
      "Epoch 13: Validation Loss: 1.7287, BPC: 2.4939, Accuracy: 0.5528\n"
     ]
    },
    {
     "name": "stderr",
     "output_type": "stream",
     "text": [
      "Epoch 14/30: 100%|██████████| 59/59 [00:01<00:00, 39.37it/s, loss=0.424]\n"
     ]
    },
    {
     "name": "stdout",
     "output_type": "stream",
     "text": [
      "Epoch 14: Training Loss: 0.4410, BPC: 0.6363, Accuracy: 0.5390\n"
     ]
    },
    {
     "name": "stderr",
     "output_type": "stream",
     "text": [
      "Validation: 100%|██████████| 59/59 [00:01<00:00, 48.04it/s]\n"
     ]
    },
    {
     "name": "stdout",
     "output_type": "stream",
     "text": [
      "Epoch 14: Validation Loss: 1.6259, BPC: 2.3457, Accuracy: 0.5789\n"
     ]
    },
    {
     "name": "stderr",
     "output_type": "stream",
     "text": [
      "Epoch 15/30: 100%|██████████| 59/59 [00:01<00:00, 36.75it/s, loss=0.415]\n"
     ]
    },
    {
     "name": "stdout",
     "output_type": "stream",
     "text": [
      "Epoch 15: Training Loss: 0.4178, BPC: 0.6028, Accuracy: 0.5650\n"
     ]
    },
    {
     "name": "stderr",
     "output_type": "stream",
     "text": [
      "Validation: 100%|██████████| 59/59 [00:01<00:00, 49.72it/s]\n"
     ]
    },
    {
     "name": "stdout",
     "output_type": "stream",
     "text": [
      "Epoch 15: Validation Loss: 1.5371, BPC: 2.2176, Accuracy: 0.6010\n",
      "\n",
      "Rebuilding graph at epoch 15 with dynamic enhancements.\n",
      "Adjusted k based on current entropy (2.2176): 16\n",
      "Retrieving new kNN with adjusted k...\n",
      "New kNN retrieval completed.\n",
      "Applying threshold-based relevance on new kNN...\n",
      "Threshold-based relevance applied.\n",
      "Rebuilding Heterogeneous Graph with new k and threshold...\n",
      "Starting graph construction...\n",
      "Assigning 'ao' node features and labels...\n",
      "Filtering invalid neighbor indices...\n",
      "Number of valid neighbors: 958464\n",
      "Retrieving 'an' node representations...\n",
      "'an' node features shape: torch.Size([958464, 64])\n",
      "Creating intra-context edges for 'ao' nodes...\n",
      "Intra-context edges shape: torch.Size([2, 59903])\n",
      "Creating inter-context edges from 'an' to 'ao' nodes...\n",
      "Inter-context edges shape: torch.Size([2, 958464])\n",
      "Assigning edge attributes based on similarity scores...\n",
      "Edge weights shape before adjustment: torch.Size([958464])\n",
      "Assigned edge attributes shape: torch.Size([958464])\n",
      "Adding 'an', 'self', 'an' edges with empty edge_index...\n",
      "'an', 'self', 'an' edges shape: torch.Size([2, 0])\n",
      "Graph construction completed successfully.\n",
      "Heterogeneous Graph rebuilt successfully.\n",
      "Updating NeighborLoaders with the new graph...\n",
      "NeighborLoaders updated with the new graph.\n",
      "\n"
     ]
    },
    {
     "name": "stderr",
     "output_type": "stream",
     "text": [
      "Epoch 16/30: 100%|██████████| 59/59 [00:01<00:00, 37.17it/s, loss=0.391]\n"
     ]
    },
    {
     "name": "stdout",
     "output_type": "stream",
     "text": [
      "Epoch 16: Training Loss: 0.3983, BPC: 0.5747, Accuracy: 0.5848\n"
     ]
    },
    {
     "name": "stderr",
     "output_type": "stream",
     "text": [
      "Validation: 100%|██████████| 59/59 [00:01<00:00, 42.76it/s]\n"
     ]
    },
    {
     "name": "stdout",
     "output_type": "stream",
     "text": [
      "Epoch 16: Validation Loss: 1.4715, BPC: 2.1230, Accuracy: 0.6163\n"
     ]
    },
    {
     "name": "stderr",
     "output_type": "stream",
     "text": [
      "Epoch 17/30: 100%|██████████| 59/59 [00:01<00:00, 36.99it/s, loss=0.383]\n"
     ]
    },
    {
     "name": "stdout",
     "output_type": "stream",
     "text": [
      "Epoch 17: Training Loss: 0.3835, BPC: 0.5532, Accuracy: 0.5992\n"
     ]
    },
    {
     "name": "stderr",
     "output_type": "stream",
     "text": [
      "Validation: 100%|██████████| 59/59 [00:01<00:00, 46.69it/s]\n"
     ]
    },
    {
     "name": "stdout",
     "output_type": "stream",
     "text": [
      "Epoch 17: Validation Loss: 1.4179, BPC: 2.0456, Accuracy: 0.6259\n"
     ]
    },
    {
     "name": "stderr",
     "output_type": "stream",
     "text": [
      "Epoch 18/30: 100%|██████████| 59/59 [00:01<00:00, 38.34it/s, loss=0.378]\n"
     ]
    },
    {
     "name": "stdout",
     "output_type": "stream",
     "text": [
      "Epoch 18: Training Loss: 0.3717, BPC: 0.5363, Accuracy: 0.6088\n"
     ]
    },
    {
     "name": "stderr",
     "output_type": "stream",
     "text": [
      "Validation: 100%|██████████| 59/59 [00:01<00:00, 48.05it/s]\n"
     ]
    },
    {
     "name": "stdout",
     "output_type": "stream",
     "text": [
      "Epoch 18: Validation Loss: 1.3767, BPC: 1.9861, Accuracy: 0.6368\n"
     ]
    },
    {
     "name": "stderr",
     "output_type": "stream",
     "text": [
      "Epoch 19/30: 100%|██████████| 59/59 [00:01<00:00, 35.77it/s, loss=0.354]\n"
     ]
    },
    {
     "name": "stdout",
     "output_type": "stream",
     "text": [
      "Epoch 19: Training Loss: 0.3612, BPC: 0.5211, Accuracy: 0.6186\n"
     ]
    },
    {
     "name": "stderr",
     "output_type": "stream",
     "text": [
      "Validation: 100%|██████████| 59/59 [00:01<00:00, 51.27it/s]\n"
     ]
    },
    {
     "name": "stdout",
     "output_type": "stream",
     "text": [
      "Epoch 19: Validation Loss: 1.3359, BPC: 1.9273, Accuracy: 0.6461\n"
     ]
    },
    {
     "name": "stderr",
     "output_type": "stream",
     "text": [
      "Epoch 20/30: 100%|██████████| 59/59 [00:01<00:00, 40.06it/s, loss=0.377]\n"
     ]
    },
    {
     "name": "stdout",
     "output_type": "stream",
     "text": [
      "Epoch 20: Training Loss: 0.3522, BPC: 0.5082, Accuracy: 0.6268\n"
     ]
    },
    {
     "name": "stderr",
     "output_type": "stream",
     "text": [
      "Validation: 100%|██████████| 59/59 [00:01<00:00, 48.58it/s]\n"
     ]
    },
    {
     "name": "stdout",
     "output_type": "stream",
     "text": [
      "Epoch 20: Validation Loss: 1.3001, BPC: 1.8756, Accuracy: 0.6520\n",
      "\n",
      "Rebuilding graph at epoch 20 with dynamic enhancements.\n",
      "Adjusted k based on current entropy (1.8756): 16\n",
      "Retrieving new kNN with adjusted k...\n",
      "New kNN retrieval completed.\n",
      "Applying threshold-based relevance on new kNN...\n",
      "Threshold-based relevance applied.\n",
      "Rebuilding Heterogeneous Graph with new k and threshold...\n",
      "Starting graph construction...\n",
      "Assigning 'ao' node features and labels...\n",
      "Filtering invalid neighbor indices...\n",
      "Number of valid neighbors: 958464\n",
      "Retrieving 'an' node representations...\n",
      "'an' node features shape: torch.Size([958464, 64])\n",
      "Creating intra-context edges for 'ao' nodes...\n",
      "Intra-context edges shape: torch.Size([2, 59903])\n",
      "Creating inter-context edges from 'an' to 'ao' nodes...\n",
      "Inter-context edges shape: torch.Size([2, 958464])\n",
      "Assigning edge attributes based on similarity scores...\n",
      "Edge weights shape before adjustment: torch.Size([958464])\n",
      "Assigned edge attributes shape: torch.Size([958464])\n",
      "Adding 'an', 'self', 'an' edges with empty edge_index...\n",
      "'an', 'self', 'an' edges shape: torch.Size([2, 0])\n",
      "Graph construction completed successfully.\n",
      "Heterogeneous Graph rebuilt successfully.\n",
      "Updating NeighborLoaders with the new graph...\n",
      "NeighborLoaders updated with the new graph.\n",
      "\n"
     ]
    },
    {
     "name": "stderr",
     "output_type": "stream",
     "text": [
      "Epoch 21/30: 100%|██████████| 59/59 [00:01<00:00, 31.64it/s, loss=0.333]\n"
     ]
    },
    {
     "name": "stdout",
     "output_type": "stream",
     "text": [
      "Epoch 21: Training Loss: 0.3437, BPC: 0.4959, Accuracy: 0.6348\n"
     ]
    },
    {
     "name": "stderr",
     "output_type": "stream",
     "text": [
      "Validation: 100%|██████████| 59/59 [00:01<00:00, 44.68it/s]\n"
     ]
    },
    {
     "name": "stdout",
     "output_type": "stream",
     "text": [
      "Epoch 21: Validation Loss: 1.2677, BPC: 1.8289, Accuracy: 0.6606\n"
     ]
    },
    {
     "name": "stderr",
     "output_type": "stream",
     "text": [
      "Epoch 22/30: 100%|██████████| 59/59 [00:02<00:00, 29.48it/s, loss=0.319]\n"
     ]
    },
    {
     "name": "stdout",
     "output_type": "stream",
     "text": [
      "Epoch 22: Training Loss: 0.3355, BPC: 0.4840, Accuracy: 0.6435\n"
     ]
    },
    {
     "name": "stderr",
     "output_type": "stream",
     "text": [
      "Validation: 100%|██████████| 59/59 [00:01<00:00, 42.69it/s]\n"
     ]
    },
    {
     "name": "stdout",
     "output_type": "stream",
     "text": [
      "Epoch 22: Validation Loss: 1.2311, BPC: 1.7761, Accuracy: 0.6704\n"
     ]
    },
    {
     "name": "stderr",
     "output_type": "stream",
     "text": [
      "Epoch 23/30: 100%|██████████| 59/59 [00:01<00:00, 34.50it/s, loss=0.318]\n"
     ]
    },
    {
     "name": "stdout",
     "output_type": "stream",
     "text": [
      "Epoch 23: Training Loss: 0.3275, BPC: 0.4725, Accuracy: 0.6520\n"
     ]
    },
    {
     "name": "stderr",
     "output_type": "stream",
     "text": [
      "Validation: 100%|██████████| 59/59 [00:01<00:00, 43.87it/s]\n"
     ]
    },
    {
     "name": "stdout",
     "output_type": "stream",
     "text": [
      "Epoch 23: Validation Loss: 1.1978, BPC: 1.7281, Accuracy: 0.6786\n"
     ]
    },
    {
     "name": "stderr",
     "output_type": "stream",
     "text": [
      "Epoch 24/30: 100%|██████████| 59/59 [00:01<00:00, 30.26it/s, loss=0.321]\n"
     ]
    },
    {
     "name": "stdout",
     "output_type": "stream",
     "text": [
      "Epoch 24: Training Loss: 0.3205, BPC: 0.4624, Accuracy: 0.6586\n"
     ]
    },
    {
     "name": "stderr",
     "output_type": "stream",
     "text": [
      "Validation: 100%|██████████| 59/59 [00:01<00:00, 37.71it/s]\n"
     ]
    },
    {
     "name": "stdout",
     "output_type": "stream",
     "text": [
      "Epoch 24: Validation Loss: 1.1726, BPC: 1.6917, Accuracy: 0.6837\n"
     ]
    },
    {
     "name": "stderr",
     "output_type": "stream",
     "text": [
      "Epoch 25/30: 100%|██████████| 59/59 [00:01<00:00, 34.39it/s, loss=0.324]\n"
     ]
    },
    {
     "name": "stdout",
     "output_type": "stream",
     "text": [
      "Epoch 25: Training Loss: 0.3138, BPC: 0.4527, Accuracy: 0.6649\n"
     ]
    },
    {
     "name": "stderr",
     "output_type": "stream",
     "text": [
      "Validation: 100%|██████████| 59/59 [00:01<00:00, 48.96it/s]\n"
     ]
    },
    {
     "name": "stdout",
     "output_type": "stream",
     "text": [
      "Epoch 25: Validation Loss: 1.1428, BPC: 1.6487, Accuracy: 0.6898\n",
      "\n",
      "Rebuilding graph at epoch 25 with dynamic enhancements.\n",
      "Adjusted k based on current entropy (1.6487): 16\n",
      "Retrieving new kNN with adjusted k...\n",
      "New kNN retrieval completed.\n",
      "Applying threshold-based relevance on new kNN...\n",
      "Threshold-based relevance applied.\n",
      "Rebuilding Heterogeneous Graph with new k and threshold...\n",
      "Starting graph construction...\n",
      "Assigning 'ao' node features and labels...\n",
      "Filtering invalid neighbor indices...\n",
      "Number of valid neighbors: 958464\n",
      "Retrieving 'an' node representations...\n",
      "'an' node features shape: torch.Size([958464, 64])\n",
      "Creating intra-context edges for 'ao' nodes...\n",
      "Intra-context edges shape: torch.Size([2, 59903])\n",
      "Creating inter-context edges from 'an' to 'ao' nodes...\n",
      "Inter-context edges shape: torch.Size([2, 958464])\n",
      "Assigning edge attributes based on similarity scores...\n",
      "Edge weights shape before adjustment: torch.Size([958464])\n",
      "Assigned edge attributes shape: torch.Size([958464])\n",
      "Adding 'an', 'self', 'an' edges with empty edge_index...\n",
      "'an', 'self', 'an' edges shape: torch.Size([2, 0])\n",
      "Graph construction completed successfully.\n",
      "Heterogeneous Graph rebuilt successfully.\n",
      "Updating NeighborLoaders with the new graph...\n",
      "NeighborLoaders updated with the new graph.\n",
      "\n"
     ]
    },
    {
     "name": "stderr",
     "output_type": "stream",
     "text": [
      "Epoch 26/30: 100%|██████████| 59/59 [00:01<00:00, 36.86it/s, loss=0.305]\n"
     ]
    },
    {
     "name": "stdout",
     "output_type": "stream",
     "text": [
      "Epoch 26: Training Loss: 0.3069, BPC: 0.4428, Accuracy: 0.6717\n"
     ]
    },
    {
     "name": "stderr",
     "output_type": "stream",
     "text": [
      "Validation: 100%|██████████| 59/59 [00:01<00:00, 47.15it/s]\n"
     ]
    },
    {
     "name": "stdout",
     "output_type": "stream",
     "text": [
      "Epoch 26: Validation Loss: 1.1154, BPC: 1.6092, Accuracy: 0.6958\n"
     ]
    },
    {
     "name": "stderr",
     "output_type": "stream",
     "text": [
      "Epoch 27/30: 100%|██████████| 59/59 [00:01<00:00, 39.09it/s, loss=0.301]\n"
     ]
    },
    {
     "name": "stdout",
     "output_type": "stream",
     "text": [
      "Epoch 27: Training Loss: 0.3010, BPC: 0.4342, Accuracy: 0.6764\n"
     ]
    },
    {
     "name": "stderr",
     "output_type": "stream",
     "text": [
      "Validation: 100%|██████████| 59/59 [00:01<00:00, 47.44it/s]\n"
     ]
    },
    {
     "name": "stdout",
     "output_type": "stream",
     "text": [
      "Epoch 27: Validation Loss: 1.0880, BPC: 1.5696, Accuracy: 0.7019\n"
     ]
    },
    {
     "name": "stderr",
     "output_type": "stream",
     "text": [
      "Epoch 28/30: 100%|██████████| 59/59 [00:01<00:00, 36.77it/s, loss=0.284]\n"
     ]
    },
    {
     "name": "stdout",
     "output_type": "stream",
     "text": [
      "Epoch 28: Training Loss: 0.2948, BPC: 0.4252, Accuracy: 0.6820\n"
     ]
    },
    {
     "name": "stderr",
     "output_type": "stream",
     "text": [
      "Validation: 100%|██████████| 59/59 [00:01<00:00, 48.73it/s]\n"
     ]
    },
    {
     "name": "stdout",
     "output_type": "stream",
     "text": [
      "Epoch 28: Validation Loss: 1.0662, BPC: 1.5382, Accuracy: 0.7074\n"
     ]
    },
    {
     "name": "stderr",
     "output_type": "stream",
     "text": [
      "Epoch 29/30: 100%|██████████| 59/59 [00:01<00:00, 39.53it/s, loss=0.294]\n"
     ]
    },
    {
     "name": "stdout",
     "output_type": "stream",
     "text": [
      "Epoch 29: Training Loss: 0.2897, BPC: 0.4179, Accuracy: 0.6864\n"
     ]
    },
    {
     "name": "stderr",
     "output_type": "stream",
     "text": [
      "Validation: 100%|██████████| 59/59 [00:01<00:00, 51.76it/s]\n"
     ]
    },
    {
     "name": "stdout",
     "output_type": "stream",
     "text": [
      "Epoch 29: Validation Loss: 1.0442, BPC: 1.5065, Accuracy: 0.7135\n"
     ]
    },
    {
     "name": "stderr",
     "output_type": "stream",
     "text": [
      "Epoch 30/30: 100%|██████████| 59/59 [00:01<00:00, 34.59it/s, loss=0.307]\n"
     ]
    },
    {
     "name": "stdout",
     "output_type": "stream",
     "text": [
      "Epoch 30: Training Loss: 0.2851, BPC: 0.4112, Accuracy: 0.6899\n"
     ]
    },
    {
     "name": "stderr",
     "output_type": "stream",
     "text": [
      "Validation: 100%|██████████| 59/59 [00:01<00:00, 52.04it/s]\n"
     ]
    },
    {
     "name": "stdout",
     "output_type": "stream",
     "text": [
      "Epoch 30: Validation Loss: 1.0216, BPC: 1.4739, Accuracy: 0.7176\n",
      "\n",
      "Rebuilding graph at epoch 30 with dynamic enhancements.\n",
      "Adjusted k based on current entropy (1.4739): 16\n",
      "Retrieving new kNN with adjusted k...\n",
      "New kNN retrieval completed.\n",
      "Applying threshold-based relevance on new kNN...\n",
      "Threshold-based relevance applied.\n",
      "Rebuilding Heterogeneous Graph with new k and threshold...\n",
      "Starting graph construction...\n",
      "Assigning 'ao' node features and labels...\n",
      "Filtering invalid neighbor indices...\n",
      "Number of valid neighbors: 958464\n",
      "Retrieving 'an' node representations...\n",
      "'an' node features shape: torch.Size([958464, 64])\n",
      "Creating intra-context edges for 'ao' nodes...\n",
      "Intra-context edges shape: torch.Size([2, 59903])\n",
      "Creating inter-context edges from 'an' to 'ao' nodes...\n",
      "Inter-context edges shape: torch.Size([2, 958464])\n",
      "Assigning edge attributes based on similarity scores...\n",
      "Edge weights shape before adjustment: torch.Size([958464])\n",
      "Assigned edge attributes shape: torch.Size([958464])\n",
      "Adding 'an', 'self', 'an' edges with empty edge_index...\n",
      "'an', 'self', 'an' edges shape: torch.Size([2, 0])\n",
      "Graph construction completed successfully.\n",
      "Heterogeneous Graph rebuilt successfully.\n",
      "Updating NeighborLoaders with the new graph...\n",
      "NeighborLoaders updated with the new graph.\n",
      "\n",
      "Starting Visualization of Metrics...\n"
     ]
    },
    {
     "data": {
      "image/png": "[encoded data removed]",
      "text/plain": [
       "<Figure size 1200x600 with 1 Axes>"
      ]
     },
     "metadata": {},
     "output_type": "display_data"
    },
    {
     "data": {
      "image/png": "[encoded data removed]",
      "text/plain": [
       "<Figure size 1200x600 with 1 Axes>"
      ]
     },
     "metadata": {},
     "output_type": "display_data"
    },
    {
     "data": {
      "image/png": "[encoded data removed]",
      "text/plain": [
       "<Figure size 1200x600 with 1 Axes>"
      ]
     },
     "metadata": {},
     "output_type": "display_data"
    },
    {
     "name": "stdout",
     "output_type": "stream",
     "text": [
      "Visualization completed.\n"
     ]
    }
   ],
   "source": [
    "# Install necessary packages if not already installed\n",
    "# Uncomment the following lines if you haven't installed these packages yet\n",
    "# !pip install faiss-cpu torch torch-geometric matplotlib tqdm psutil\n",
    "\n",
    "import torch\n",
    "import torch.nn as nn\n",
    "import torch.nn.functional as F\n",
    "from torch_geometric.data import HeteroData\n",
    "from torch_geometric.loader import NeighborLoader\n",
    "from torch_geometric.nn import SAGEConv, HeteroConv\n",
    "from torch.cuda.amp import GradScaler\n",
    "import faiss\n",
    "import numpy as np\n",
    "import os\n",
    "from tqdm import tqdm\n",
    "import matplotlib.pyplot as plt\n",
    "import math\n",
    "import psutil\n",
    "\n",
    "# ==================== Configuration ====================\n",
    "\n",
    "# Enhancement Parameters\n",
    "k_min = 16\n",
    "k_max = 64\n",
    "entropy_threshold = 1.0\n",
    "graph_rebuild_interval = 5  # Rebuild graph every 5 epochs\n",
    "\n",
    "# Training Parameters\n",
    "num_epochs_enh = 30\n",
    "learning_rate_gnn_enh = 0.0005\n",
    "hidden_channels = 128      # Adjusted to match the saved model's hidden channels\n",
    "num_gnn_layers = 3         # Adjusted based on the saved model's number of layers\n",
    "batch_size_gnn = 1024\n",
    "accumulation_steps = 4    # For gradient accumulation\n",
    "\n",
    "# File Paths\n",
    "transformer_model_path = 'base_model.pth'\n",
    "gnn_model_path = 'gnn_model.pth'\n",
    "train_reps_file = 'train_reps.memmap'\n",
    "train_targets_file = 'train_targets.memmap'\n",
    "test_reps_file = 'test_reps.memmap'\n",
    "test_targets_file = 'test_targets.memmap'\n",
    "faiss_index_path = 'faiss_index.faiss'\n",
    "\n",
    "# ==================== Helper Functions ====================\n",
    "\n",
    "def memory_usage():\n",
    "    \"\"\"\n",
    "    Prints the current memory usage of the process in GB.\n",
    "    \"\"\"\n",
    "    process = psutil.Process(os.getpid())\n",
    "    mem = process.memory_info().rss / (1024 ** 3)  # in GB\n",
    "    print(f\"Current memory usage: {mem:.2f} GB\")\n",
    "\n",
    "def compute_entropy(probs):\n",
    "    \"\"\"\n",
    "    Compute the entropy of the probability distribution.\n",
    "    probs: Tensor of probabilities.\n",
    "    \"\"\"\n",
    "    return -torch.sum(probs * torch.log(probs + 1e-10)).item()\n",
    "\n",
    "def dynamic_k(entropy, k_min, k_max, threshold):\n",
    "    \"\"\"\n",
    "    Adjust the number of neighbors based on entropy.\n",
    "    Lower entropy allows for more neighbors, and vice versa.\n",
    "    \"\"\"\n",
    "    if entropy < threshold / 2:\n",
    "        return k_max\n",
    "    elif entropy > threshold:\n",
    "        return k_min\n",
    "    else:\n",
    "        # Linearly interpolate between k_min and k_max\n",
    "        return int(k_min + (k_max - k_min) * (threshold - entropy) / threshold)\n",
    "\n",
    "def threshold_based_relevance(D, I, threshold=1.0):\n",
    "    \"\"\"\n",
    "    Select neighbors based on a similarity threshold.\n",
    "    Ensures at least one neighbor is retained for each node.\n",
    "    \"\"\"\n",
    "    I_filtered = np.copy(I)\n",
    "    for i in range(D.shape[0]):\n",
    "        mask = D[i] > threshold\n",
    "        if not np.any(mask):\n",
    "            # Retain the top neighbor if none exceed the threshold\n",
    "            I_filtered[i] = I[i][0]\n",
    "        else:\n",
    "            I_filtered[i][~mask] = -1  # Set to -1 or any invalid index\n",
    "    return I_filtered\n",
    "\n",
    "def batched_faiss_search(index, queries, k, batch_size=10000):\n",
    "    \"\"\"\n",
    "    Perform batched kNN search to manage memory usage.\n",
    "    \"\"\"\n",
    "    num_queries = queries.shape[0]\n",
    "    D = np.empty((num_queries, k), dtype='float32')\n",
    "    I = np.empty((num_queries, k), dtype='int64')\n",
    "\n",
    "    for i in tqdm(range(0, num_queries, batch_size), desc=\"kNN Search Batches\"):\n",
    "        start = i\n",
    "        end = min(i + batch_size, num_queries)\n",
    "        batch_queries = queries[start:end].astype('float32')\n",
    "        D_batch, I_batch = index.search(batch_queries, k)\n",
    "        D[start:end] = D_batch\n",
    "        I[start:end] = I_batch\n",
    "\n",
    "    return D, I\n",
    "\n",
    "def build_graph(test_reps, train_reps, I, D, test_targets, k, threshold=1.0):\n",
    "    \"\"\"\n",
    "    Constructs a Heterogeneous Graph based on kNN results and thresholding.\n",
    "    Ensures each 'ao' node retains at least one 'an' neighbor.\n",
    "    \"\"\"\n",
    "    print(\"Starting graph construction...\")\n",
    "    graph = HeteroData()\n",
    "    \n",
    "    try:\n",
    "        # Nodes\n",
    "        print(\"Assigning 'ao' node features and labels...\")\n",
    "        graph['ao'].x = torch.tensor(test_reps, dtype=torch.float32)\n",
    "        graph['ao'].y = torch.tensor(test_targets, dtype=torch.long)  # Assign target labels\n",
    "        \n",
    "        # Filter out invalid neighbor indices\n",
    "        print(\"Filtering invalid neighbor indices...\")\n",
    "        neighbor_indices = I.flatten()\n",
    "        valid_mask = neighbor_indices != -1\n",
    "        neighbor_indices = neighbor_indices[valid_mask]\n",
    "        print(f\"Number of valid neighbors: {neighbor_indices.size}\")\n",
    "        \n",
    "        # Check if there are any valid neighbors\n",
    "        if neighbor_indices.size == 0:\n",
    "            raise ValueError(\"No valid neighbors found after thresholding. Consider adjusting the threshold or k_max.\")\n",
    "        \n",
    "        # Retrieve neighbor representations\n",
    "        print(\"Retrieving 'an' node representations...\")\n",
    "        neighbor_reps = train_reps[neighbor_indices]\n",
    "        graph['an'].x = torch.tensor(neighbor_reps, dtype=torch.float32)\n",
    "        print(f\"'an' node features shape: {graph['an'].x.shape}\")\n",
    "        \n",
    "        # Intra-context edges (within 'ao' nodes)\n",
    "        num_ao_nodes = test_reps.shape[0]\n",
    "        print(\"Creating intra-context edges for 'ao' nodes...\")\n",
    "        if num_ao_nodes < 2:\n",
    "            print(\"Not enough 'ao' nodes to create intra-context edges.\")\n",
    "            graph['ao', 'rintra', 'ao'].edge_index = torch.empty((2, 0), dtype=torch.long)\n",
    "        else:\n",
    "            src_intra = torch.arange(0, num_ao_nodes - 1, dtype=torch.long)\n",
    "            dst_intra = torch.arange(1, num_ao_nodes, dtype=torch.long)\n",
    "            graph['ao', 'rintra', 'ao'].edge_index = torch.stack([src_intra, dst_intra], dim=0)\n",
    "            print(f\"Intra-context edges shape: {graph['ao', 'rintra', 'ao'].edge_index.shape}\")\n",
    "        \n",
    "        # Inter-context edges (from 'an' to 'ao' nodes)\n",
    "        num_an_nodes = neighbor_indices.shape[0]\n",
    "        print(\"Creating inter-context edges from 'an' to 'ao' nodes...\")\n",
    "        if num_an_nodes == 0:\n",
    "            print(\"No 'an' nodes to connect. Skipping inter-context edges.\")\n",
    "            graph['an', 'rinter', 'ao'].edge_index = torch.empty((2, 0), dtype=torch.long)\n",
    "            graph['an', 'rinter', 'ao'].edge_attr = torch.empty((0,), dtype=torch.float32)\n",
    "        else:\n",
    "            src_inter = torch.arange(num_an_nodes, dtype=torch.long)  # 'an' node indices\n",
    "            # Ensure dst_inter aligns with num_an_nodes\n",
    "            repetitions = math.ceil(num_an_nodes / num_ao_nodes) if num_ao_nodes > 0 else 1\n",
    "            dst_inter = torch.tile(torch.arange(num_ao_nodes, dtype=torch.long), (repetitions,))[:num_an_nodes]\n",
    "            graph['an', 'rinter', 'ao'].edge_index = torch.stack([src_inter, dst_inter], dim=0)\n",
    "            print(f\"Inter-context edges shape: {graph['an', 'rinter', 'ao'].edge_index.shape}\")\n",
    "        \n",
    "            # Assign weights based on similarity scores\n",
    "            print(\"Assigning edge attributes based on similarity scores...\")\n",
    "            D_flat = D.flatten()[valid_mask]\n",
    "            weights = torch.tensor(D_flat, dtype=torch.float32)\n",
    "            weights = weights * (weights > threshold).float()\n",
    "            print(f\"Edge weights shape before adjustment: {weights.shape}\")\n",
    "            \n",
    "            # Ensure weights align with the number of inter-context edges\n",
    "            if weights.size(0) != num_an_nodes:\n",
    "                print(f\"Adjusting 'weights' size from {weights.size(0)} to {num_an_nodes}\")\n",
    "                weights = weights[:num_an_nodes]\n",
    "            graph['an', 'rinter', 'ao'].edge_attr = weights\n",
    "            print(f\"Assigned edge attributes shape: {graph['an', 'rinter', 'ao'].edge_attr.shape}\")\n",
    "        \n",
    "        # Adding 'an', 'self', 'an' edges with empty edge_index to match the model's expectations\n",
    "        print(\"Adding 'an', 'self', 'an' edges with empty edge_index...\")\n",
    "        graph['an', 'self', 'an'].edge_index = torch.empty((2, 0), dtype=torch.long)\n",
    "        print(f\"'an', 'self', 'an' edges shape: {graph['an', 'self', 'an'].edge_index.shape}\")\n",
    "        \n",
    "        print(\"Graph construction completed successfully.\")\n",
    "    except Exception as e:\n",
    "        print(f\"An error occurred during graph construction: {e}\")\n",
    "        raise e  # Re-raise the exception after logging\n",
    "    \n",
    "    return graph\n",
    "\n",
    "# ==================== Model Definitions ====================\n",
    "\n",
    "class TransformerLM(nn.Module):\n",
    "    def __init__(self, vocab_size, embed_dim, num_heads, num_layers, block_size):\n",
    "        super(TransformerLM, self).__init__()\n",
    "        self.token_embedding = nn.Embedding(vocab_size, embed_dim)\n",
    "        self.position_embedding = nn.Embedding(block_size, embed_dim)\n",
    "        encoder_layers = nn.TransformerEncoderLayer(d_model=embed_dim, nhead=num_heads)\n",
    "        self.transformer = nn.TransformerEncoder(encoder_layers, num_layers=num_layers)\n",
    "        self.fc_out = nn.Linear(embed_dim, vocab_size)\n",
    "\n",
    "    def forward(self, x):\n",
    "        seq_length = x.size(1)\n",
    "        positions = torch.arange(0, seq_length, device=x.device).unsqueeze(0).expand(x.size(0), seq_length)\n",
    "        x = self.token_embedding(x) + self.position_embedding(positions)\n",
    "        x = x.permute(1, 0, 2)  # (seq_length, batch_size, embed_dim)\n",
    "        output = self.transformer(x)\n",
    "        output = output.permute(1, 0, 2)  # (batch_size, seq_length, embed_dim)\n",
    "        logits = self.fc_out(output)\n",
    "        return logits, output  # Return logits and hidden states\n",
    "\n",
    "class HeteroGNNModel(nn.Module):\n",
    "    def __init__(self, hidden_channels, num_layers, vocab_size):\n",
    "        super(HeteroGNNModel, self).__init__()\n",
    "        self.convs = nn.ModuleList()\n",
    "        for layer in range(num_layers):\n",
    "            if layer == 0:\n",
    "                # First layer: Input features (64) to hidden_channels (128)\n",
    "                conv = HeteroConv({\n",
    "                    ('ao', 'rintra', 'ao'): SAGEConv(64, hidden_channels),\n",
    "                    ('an', 'rinter', 'ao'): SAGEConv(64, hidden_channels),\n",
    "                    ('an', 'self', 'an'): SAGEConv(64, hidden_channels),  # Added 'an', 'self', 'an'\n",
    "                }, aggr='mean')\n",
    "            else:\n",
    "                # Subsequent layers: hidden_channels (128) to hidden_channels (128)\n",
    "                conv = HeteroConv({\n",
    "                    ('ao', 'rintra', 'ao'): SAGEConv(hidden_channels, hidden_channels),\n",
    "                    ('an', 'rinter', 'ao'): SAGEConv(hidden_channels, hidden_channels),\n",
    "                    ('an', 'self', 'an'): SAGEConv(hidden_channels, hidden_channels),  # Added 'an', 'self', 'an'\n",
    "                }, aggr='mean')\n",
    "            self.convs.append(conv)\n",
    "        # Final linear layer: hidden_channels (128) to vocab_size (86)\n",
    "        self.fc = nn.Linear(hidden_channels, vocab_size)\n",
    "\n",
    "    def forward(self, data):\n",
    "        x_dict, edge_index_dict = data.x_dict, data.edge_index_dict\n",
    "        for conv in self.convs:\n",
    "            # Apply HeteroConv\n",
    "            x_dict = conv(x_dict, edge_index_dict)\n",
    "            # Apply activation\n",
    "            for key in x_dict:\n",
    "                x_dict[key] = F.relu(x_dict[key])\n",
    "        # Assuming prediction for 'ao' nodes\n",
    "        if 'ao' not in x_dict or x_dict['ao'] is None:\n",
    "            print(\"Warning: 'ao' node features are missing or None after convolution.\")\n",
    "            return None  # Return None to indicate failure\n",
    "        x_ao = x_dict['ao']\n",
    "        logits = self.fc(x_ao)\n",
    "        return logits\n",
    "\n",
    "# ==================== Loading Baseline Models ====================\n",
    "\n",
    "# Define model hyperparameters (matched to baseline)\n",
    "vocab_size = 86      # As per error message\n",
    "embed_dim = 64       # As per error message\n",
    "num_heads = 4        # Assuming 4 heads (64 / 4 = 16 head_dim)\n",
    "num_layers = 4       # Assuming the Transformer has 4 layers\n",
    "block_size = 64      # As per position_embedding.weight shape\n",
    "\n",
    "# Initialize and load Transformer model\n",
    "device = torch.device('cuda' if torch.cuda.is_available() else 'cpu')\n",
    "transformer = TransformerLM(vocab_size, embed_dim, num_heads, num_layers, block_size).to(device)\n",
    "try:\n",
    "    transformer.load_state_dict(torch.load(transformer_model_path, map_location=device))\n",
    "    transformer.eval()\n",
    "    print(\"Loaded Transformer model successfully.\")\n",
    "except Exception as e:\n",
    "    print(f\"Failed to load Transformer model: {e}\")\n",
    "    exit(1)\n",
    "\n",
    "# Initialize and load Baseline GNN model\n",
    "gnn_model_baseline = HeteroGNNModel(hidden_channels, num_gnn_layers, vocab_size).to(device)\n",
    "try:\n",
    "    gnn_model_baseline.load_state_dict(torch.load(gnn_model_path, map_location=device))\n",
    "    gnn_model_baseline.eval()\n",
    "    print(\"Loaded Baseline GNN model successfully.\")\n",
    "except Exception as e:\n",
    "    print(f\"Failed to load Baseline GNN model: {e}\")\n",
    "    exit(1)\n",
    "\n",
    "# ==================== Loading Representations ====================\n",
    "\n",
    "print(\"Loading training representations...\")\n",
    "try:\n",
    "    train_reps = np.memmap(train_reps_file, dtype='float32', mode='r')\n",
    "    train_targets = np.memmap(train_targets_file, dtype='int64', mode='r')\n",
    "    print(\"Loaded training representations successfully.\")\n",
    "except Exception as e:\n",
    "    print(f\"Failed to load training representations: {e}\")\n",
    "    exit(1)\n",
    "\n",
    "print(\"Loading test representations...\")\n",
    "try:\n",
    "    test_reps = np.memmap(test_reps_file, dtype='float32', mode='r')\n",
    "    test_targets = np.memmap(test_targets_file, dtype='int64', mode='r')\n",
    "    print(\"Loaded test representations successfully.\")\n",
    "except Exception as e:\n",
    "    print(f\"Failed to load test representations: {e}\")\n",
    "    exit(1)\n",
    "\n",
    "# Reshape memmap arrays based on known sizes\n",
    "try:\n",
    "    num_train_samples = train_reps.size // embed_dim\n",
    "    train_reps = train_reps.reshape((num_train_samples, embed_dim))\n",
    "    print(f\"Training representations reshaped to: {train_reps.shape}\")\n",
    "    \n",
    "    num_test_samples = test_reps.size // embed_dim\n",
    "    test_reps = test_reps.reshape((num_test_samples, embed_dim))\n",
    "    print(f\"Test representations reshaped to: {test_reps.shape}\")\n",
    "except Exception as e:\n",
    "    print(f\"Failed to reshape representations: {e}\")\n",
    "    exit(1)\n",
    "\n",
    "# Normalize representations\n",
    "print(\"Normalizing representations...\")\n",
    "try:\n",
    "    train_reps = train_reps / (np.linalg.norm(train_reps, axis=1, keepdims=True) + 1e-10)\n",
    "    test_reps = test_reps / (np.linalg.norm(test_reps, axis=1, keepdims=True) + 1e-10)\n",
    "    print(\"Normalization completed.\")\n",
    "except Exception as e:\n",
    "    print(f\"Failed to normalize representations: {e}\")\n",
    "    exit(1)\n",
    "\n",
    "# ==================== Loading FAISS Index ====================\n",
    "\n",
    "print(\"Loading FAISS index...\")\n",
    "try:\n",
    "    index = faiss.read_index(faiss_index_path)\n",
    "    print(f\"FAISS index loaded. Dimension: {index.d}, Number of vectors: {index.ntotal}\")\n",
    "except Exception as e:\n",
    "    print(f\"Failed to load FAISS index: {e}\")\n",
    "    # Optionally, rebuild the index here\n",
    "    exit(1)\n",
    "\n",
    "# ==================== Building Heterogeneous Graph ====================\n",
    "\n",
    "print(\"Retrieving kNN for test representations...\")\n",
    "try:\n",
    "    D, I = index.search(test_reps.astype('float32'), k_max)\n",
    "    print(\"kNN retrieval completed.\")\n",
    "except Exception as e:\n",
    "    print(f\"An error occurred during kNN retrieval: {e}\")\n",
    "    exit(1)\n",
    "\n",
    "print(\"Applying threshold-based relevance...\")\n",
    "I_filtered = threshold_based_relevance(D, I, threshold=entropy_threshold)\n",
    "print(\"Threshold-based relevance applied.\")\n",
    "\n",
    "print(\"Memory usage before building graph:\")\n",
    "memory_usage()\n",
    "\n",
    "print(\"Building Heterogeneous Graph...\")\n",
    "try:\n",
    "    graph = build_graph(test_reps, train_reps, I_filtered, D, test_targets, k_max, threshold=entropy_threshold)\n",
    "    print(\"Heterogeneous Graph built successfully.\")\n",
    "except Exception as e:\n",
    "    print(f\"Failed to build Heterogeneous Graph: {e}\")\n",
    "    exit(1)\n",
    "\n",
    "print(\"Memory usage after building graph:\")\n",
    "memory_usage()\n",
    "\n",
    "# ==================== Defining NeighborLoaders ====================\n",
    "\n",
    "print(\"Defining NeighborLoaders...\")\n",
    "try:\n",
    "    train_loader_gnn = NeighborLoader(\n",
    "        graph,\n",
    "        num_neighbors=[10, 10],          # Number of neighbors to sample at each GNN layer\n",
    "        batch_size=batch_size_gnn,        # Number of target nodes per batch\n",
    "        shuffle=True,\n",
    "        num_workers=4,\n",
    "        input_nodes='ao',                 # Specify that 'ao' nodes are the target nodes\n",
    "    )\n",
    "    \n",
    "    valid_loader_gnn = NeighborLoader(\n",
    "        graph,\n",
    "        num_neighbors=[10, 10],\n",
    "        batch_size=batch_size_gnn,\n",
    "        shuffle=False,\n",
    "        num_workers=4,\n",
    "        input_nodes='ao',\n",
    "    )\n",
    "    \n",
    "    test_loader_gnn = NeighborLoader(\n",
    "        graph,\n",
    "        num_neighbors=[10, 10],\n",
    "        batch_size=batch_size_gnn,\n",
    "        shuffle=False,\n",
    "        num_workers=4,\n",
    "        input_nodes='ao',\n",
    "    )\n",
    "    print(\"NeighborLoaders defined successfully.\")\n",
    "except Exception as e:\n",
    "    print(f\"Failed to define NeighborLoaders: {e}\")\n",
    "    exit(1)\n",
    "\n",
    "# ==================== Evaluating Baseline GNN ====================\n",
    "\n",
    "def evaluate_gnn(model, loader, criterion, device):\n",
    "    \"\"\"\n",
    "    Evaluates the GNN model on a given data loader.\n",
    "    Returns average loss, bits per character (BPC), and accuracy.\n",
    "    \"\"\"\n",
    "    model.eval()\n",
    "    total_loss = 0\n",
    "    correct = 0\n",
    "    total = 0\n",
    "    with torch.no_grad():\n",
    "        for batch in tqdm(loader, desc=\"Evaluating GNN\"):\n",
    "            try:\n",
    "                batch = batch.to(device)\n",
    "                logits = model(batch)\n",
    "                if logits is None:\n",
    "                    raise ValueError(\"Model returned None logits.\")\n",
    "                target = batch['ao'].y\n",
    "                if target is None:\n",
    "                    raise ValueError(\"Target labels are None.\")\n",
    "                loss = criterion(logits, target)\n",
    "                total_loss += loss.item()\n",
    "                predictions = logits.argmax(dim=-1)\n",
    "                correct += (predictions == target).sum().item()\n",
    "                total += target.numel()\n",
    "            except Exception as e:\n",
    "                print(f\"Error during evaluation: {e}\")\n",
    "                continue\n",
    "    if len(loader) == 0:\n",
    "        avg_loss = 0\n",
    "    else:\n",
    "        avg_loss = total_loss / len(loader)\n",
    "    if total == 0:\n",
    "        accuracy = 0\n",
    "    else:\n",
    "        accuracy = correct / total\n",
    "    if math.log(2) == 0:\n",
    "        bpc = 0\n",
    "    else:\n",
    "        bpc = avg_loss / math.log(2)\n",
    "    return avg_loss, bpc, accuracy\n",
    "\n",
    "print(\"Evaluating Baseline GNN on Validation Set...\")\n",
    "criterion = nn.CrossEntropyLoss()\n",
    "try:\n",
    "    baseline_val_loss, baseline_val_bpc, baseline_val_accuracy = evaluate_gnn(gnn_model_baseline, valid_loader_gnn, criterion, device)\n",
    "    print(f\"Baseline GNN Validation Loss: {baseline_val_loss:.4f}, BPC: {baseline_val_bpc:.4f}, Accuracy: {baseline_val_accuracy:.4f}\")\n",
    "except Exception as e:\n",
    "    print(f\"Failed to evaluate Baseline GNN on Validation Set: {e}\")\n",
    "    exit(1)\n",
    "\n",
    "print(\"Evaluating Baseline GNN on Test Set...\")\n",
    "try:\n",
    "    baseline_test_loss, baseline_test_bpc, baseline_test_accuracy = evaluate_gnn(gnn_model_baseline, test_loader_gnn, criterion, device)\n",
    "    print(f\"Baseline GNN Test Loss: {baseline_test_loss:.4f}, BPC: {baseline_test_bpc:.4f}, Accuracy: {baseline_test_accuracy:.4f}\")\n",
    "except Exception as e:\n",
    "    print(f\"Failed to evaluate Baseline GNN on Test Set: {e}\")\n",
    "    exit(1)\n",
    "\n",
    "# ==================== Defining Enhanced GNN Model ====================\n",
    "\n",
    "print(\"Initializing Enhanced GNN Model...\")\n",
    "try:\n",
    "    gnn_model_enh = HeteroGNNModel(hidden_channels, num_gnn_layers, vocab_size).to(device)\n",
    "    optimizer_gnn_enh = torch.optim.Adam(gnn_model_enh.parameters(), lr=learning_rate_gnn_enh)\n",
    "    criterion_gnn_enh = nn.CrossEntropyLoss()\n",
    "    scaler_gnn_enh = GradScaler()\n",
    "    print(\"Enhanced GNN Model initialized successfully.\")\n",
    "except Exception as e:\n",
    "    print(f\"Failed to initialize Enhanced GNN Model: {e}\")\n",
    "    exit(1)\n",
    "\n",
    "# ==================== Training Enhanced GNN with Enhancements ====================\n",
    "\n",
    "# Initialize metric lists\n",
    "gnn_train_losses_enh = []\n",
    "gnn_val_losses_enh = []\n",
    "gnn_train_bpcs_enh = []\n",
    "gnn_val_bpcs_enh = []\n",
    "gnn_train_accuracies_enh = []\n",
    "gnn_val_accuracies_enh = []\n",
    "\n",
    "print(\"Starting training of Enhanced GNN with enhancements...\")\n",
    "for epoch in range(1, num_epochs_enh + 1):\n",
    "    gnn_model_enh.train()\n",
    "    total_loss = 0\n",
    "    correct = 0\n",
    "    total = 0\n",
    "    optimizer_gnn_enh.zero_grad()\n",
    "    progress_bar = tqdm(train_loader_gnn, desc=f\"Epoch {epoch}/{num_epochs_enh}\")\n",
    "    for i, batch in enumerate(progress_bar):\n",
    "        try:\n",
    "            batch = batch.to(device)\n",
    "            target = batch['ao'].y\n",
    "            if target is None:\n",
    "                raise ValueError(\"Target labels are None.\")\n",
    "            logits = gnn_model_enh(batch)\n",
    "            if logits is None:\n",
    "                raise ValueError(\"Model returned None logits.\")\n",
    "            loss = criterion_gnn_enh(logits, target)\n",
    "            loss = loss / accumulation_steps\n",
    "            scaler_gnn_enh.scale(loss).backward()\n",
    "            if (i + 1) % accumulation_steps == 0:\n",
    "                scaler_gnn_enh.step(optimizer_gnn_enh)\n",
    "                scaler_gnn_enh.update()\n",
    "                optimizer_gnn_enh.zero_grad()\n",
    "            total_loss += loss.item()\n",
    "            predictions = logits.argmax(dim=-1)\n",
    "            correct += (predictions == target).sum().item()\n",
    "            total += target.numel()\n",
    "            progress_bar.set_postfix(loss=loss.item())\n",
    "        except Exception as e:\n",
    "            print(f\"Error during training at batch {i+1}: {e}\")\n",
    "            continue\n",
    "    \n",
    "    # Handle remaining gradients\n",
    "    if (i + 1) % accumulation_steps != 0:\n",
    "        scaler_gnn_enh.step(optimizer_gnn_enh)\n",
    "        scaler_gnn_enh.update()\n",
    "        optimizer_gnn_enh.zero_grad()\n",
    "    \n",
    "    avg_train_loss = total_loss / len(train_loader_gnn) if len(train_loader_gnn) > 0 else 0\n",
    "    train_bpc = avg_train_loss / math.log(2) if math.log(2) != 0 else 0\n",
    "    train_accuracy = correct / total if total > 0 else 0\n",
    "    gnn_train_losses_enh.append(avg_train_loss)\n",
    "    gnn_train_bpcs_enh.append(train_bpc)\n",
    "    gnn_train_accuracies_enh.append(train_accuracy)\n",
    "    \n",
    "    print(f\"Epoch {epoch}: Training Loss: {avg_train_loss:.4f}, BPC: {train_bpc:.4f}, Accuracy: {train_accuracy:.4f}\")\n",
    "    \n",
    "    # Validation Phase\n",
    "    gnn_model_enh.eval()\n",
    "    val_loss = 0\n",
    "    correct_val = 0\n",
    "    total_val = 0\n",
    "    with torch.no_grad():\n",
    "        for batch in tqdm(valid_loader_gnn, desc=\"Validation\"):\n",
    "            try:\n",
    "                batch = batch.to(device)\n",
    "                logits = gnn_model_enh(batch)\n",
    "                if logits is None:\n",
    "                    raise ValueError(\"Model returned None logits.\")\n",
    "                target = batch['ao'].y\n",
    "                if target is None:\n",
    "                    raise ValueError(\"Target labels are None.\")\n",
    "                loss = criterion_gnn_enh(logits, target)\n",
    "                val_loss += loss.item()\n",
    "                predictions = logits.argmax(dim=-1)\n",
    "                correct_val += (predictions == target).sum().item()\n",
    "                total_val += target.numel()\n",
    "            except Exception as e:\n",
    "                print(f\"Error during validation: {e}\")\n",
    "                continue\n",
    "    avg_val_loss = val_loss / len(valid_loader_gnn) if len(valid_loader_gnn) > 0 else 0\n",
    "    val_bpc = avg_val_loss / math.log(2) if math.log(2) != 0 else 0\n",
    "    val_accuracy = correct_val / total_val if total_val > 0 else 0\n",
    "    gnn_val_losses_enh.append(avg_val_loss)\n",
    "    gnn_val_bpcs_enh.append(val_bpc)\n",
    "    gnn_val_accuracies_enh.append(val_accuracy)\n",
    "    \n",
    "    print(f\"Epoch {epoch}: Validation Loss: {avg_val_loss:.4f}, BPC: {val_bpc:.4f}, Accuracy: {val_accuracy:.4f}\")\n",
    "    \n",
    "    # ==================== Dynamic Enhancements ====================\n",
    "    if epoch % graph_rebuild_interval == 0:\n",
    "        print(f\"\\nRebuilding graph at epoch {epoch} with dynamic enhancements.\")\n",
    "        \n",
    "        # Adjust k based on current validation entropy (using BPC as proxy)\n",
    "        current_entropy = val_bpc\n",
    "        adjusted_k = dynamic_k(current_entropy, k_min, k_max, entropy_threshold)\n",
    "        print(f\"Adjusted k based on current entropy ({current_entropy:.4f}): {adjusted_k}\")\n",
    "        \n",
    "        # Retrieve new kNN with adjusted_k\n",
    "        try:\n",
    "            print(\"Retrieving new kNN with adjusted k...\")\n",
    "            D_new, I_new = index.search(test_reps.astype('float32'), adjusted_k)\n",
    "            print(\"New kNN retrieval completed.\")\n",
    "        except Exception as e:\n",
    "            print(f\"An error occurred during new kNN retrieval: {e}\")\n",
    "            # Decide whether to skip rebuilding or take corrective action\n",
    "            continue\n",
    "        \n",
    "        # Apply threshold-based relevance\n",
    "        print(\"Applying threshold-based relevance on new kNN...\")\n",
    "        I_new_filtered = threshold_based_relevance(D_new, I_new, threshold=entropy_threshold)\n",
    "        print(\"Threshold-based relevance applied.\")\n",
    "        \n",
    "        # Reconstruct the Heterogeneous Graph with new k and threshold\n",
    "        try:\n",
    "            print(\"Rebuilding Heterogeneous Graph with new k and threshold...\")\n",
    "            graph = build_graph(test_reps, train_reps, I_new_filtered, D_new, test_targets, adjusted_k, threshold=entropy_threshold)\n",
    "            print(\"Heterogeneous Graph rebuilt successfully.\")\n",
    "        except Exception as e:\n",
    "            print(f\"Graph rebuilding failed: {e}\")\n",
    "            # Handle the error accordingly, possibly adjusting threshold or k_max\n",
    "            continue\n",
    "        \n",
    "        # Update NeighborLoaders with the new graph\n",
    "        print(\"Updating NeighborLoaders with the new graph...\")\n",
    "        try:\n",
    "            train_loader_gnn = NeighborLoader(\n",
    "                graph,\n",
    "                num_neighbors=[10, 10],\n",
    "                batch_size=batch_size_gnn,\n",
    "                shuffle=True,\n",
    "                num_workers=4,\n",
    "                input_nodes='ao',\n",
    "            )\n",
    "            \n",
    "            valid_loader_gnn = NeighborLoader(\n",
    "                graph,\n",
    "                num_neighbors=[10, 10],\n",
    "                batch_size=batch_size_gnn,\n",
    "                shuffle=False,\n",
    "                num_workers=4,\n",
    "                input_nodes='ao',\n",
    "            )\n",
    "            \n",
    "            test_loader_gnn = NeighborLoader(\n",
    "                graph,\n",
    "                num_neighbors=[10, 10],\n",
    "                batch_size=batch_size_gnn,\n",
    "                shuffle=False,\n",
    "                num_workers=4,\n",
    "                input_nodes='ao',\n",
    "            )\n",
    "            print(\"NeighborLoaders updated with the new graph.\\n\")\n",
    "        except Exception as e:\n",
    "            print(f\"Failed to update NeighborLoaders: {e}\")\n",
    "            continue\n",
    "\n",
    "# ==================== Visualization ====================\n",
    "\n",
    "print(\"Starting Visualization of Metrics...\")\n",
    "\n",
    "epochs_range = range(1, num_epochs_enh + 1)\n",
    "\n",
    "# Plot GNN Validation Loss Comparison\n",
    "plt.figure(figsize=(12, 6))\n",
    "plt.plot(epochs_range, [baseline_val_loss]*num_epochs_enh, label='Baseline GNN Validation Loss', linestyle='--')\n",
    "plt.plot(epochs_range, gnn_val_losses_enh, label='Enhanced GNN Validation Loss', marker='o')\n",
    "plt.xlabel('Epoch')\n",
    "plt.ylabel('Loss')\n",
    "plt.title('GNN Validation Loss: Baseline vs Enhanced')\n",
    "plt.legend()\n",
    "plt.grid(True)\n",
    "plt.show()\n",
    "\n",
    "# Plot GNN Validation BPC Comparison\n",
    "plt.figure(figsize=(12, 6))\n",
    "plt.plot(epochs_range, [baseline_val_bpc]*num_epochs_enh, label='Baseline GNN Validation BPC', linestyle='--')\n",
    "plt.plot(epochs_range, gnn_val_bpcs_enh, label='Enhanced GNN Validation BPC', marker='o')\n",
    "plt.xlabel('Epoch')\n",
    "plt.ylabel('Bits Per Character (BPC)')\n",
    "plt.title('GNN Validation BPC: Baseline vs Enhanced')\n",
    "plt.legend()\n",
    "plt.grid(True)\n",
    "plt.show()\n",
    "\n",
    "# Plot GNN Validation Accuracy Comparison\n",
    "plt.figure(figsize=(12, 6))\n",
    "plt.plot(epochs_range, [baseline_val_accuracy]*num_epochs_enh, label='Baseline GNN Validation Accuracy', linestyle='--')\n",
    "plt.plot(epochs_range, gnn_val_accuracies_enh, label='Enhanced GNN Validation Accuracy', marker='o')\n",
    "plt.xlabel('Epoch')\n",
    "plt.ylabel('Accuracy')\n",
    "plt.title('GNN Validation Accuracy: Baseline vs Enhanced')\n",
    "plt.legend()\n",
    "plt.grid(True)\n",
    "plt.show()\n",
    "\n",
    "print(\"Visualization completed.\")\n"
   ]
  },
  {
   "cell_type": "code",
   "execution_count": null,
   "id": "f7ea8030-258d-4d90-bdca-f7cf2a3718ec",
   "metadata": {},
   "outputs": [],
   "source": []
  }
 ],
 "metadata": {
  "kernelspec": {
   "display_name": "Python 3 (ipykernel)",
   "language": "python",
   "name": "python3"
  },
  "language_info": {
   "codemirror_mode": {
    "name": "ipython",
    "version": 3
   },
   "file_extension": ".py",
   "mimetype": "text/x-python",
   "name": "python",
   "nbconvert_exporter": "python",
   "pygments_lexer": "ipython3",
   "version": "3.11.9"
  }
 },
 "nbformat": 4,
 "nbformat_minor": 5
}
